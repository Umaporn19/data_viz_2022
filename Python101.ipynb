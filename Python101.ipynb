{
  "nbformat": 4,
  "nbformat_minor": 0,
  "metadata": {
    "colab": {
      "name": "Python101.ipynb",
      "provenance": [],
      "authorship_tag": "ABX9TyPpwGDF/qlVIaUi1ExA9DWp",
      "include_colab_link": true
    },
    "kernelspec": {
      "name": "python3",
      "display_name": "Python 3"
    },
    "language_info": {
      "name": "python"
    }
  },
  "cells": [
    {
      "cell_type": "markdown",
      "metadata": {
        "id": "view-in-github",
        "colab_type": "text"
      },
      "source": [
        "<a href=\"https://colab.research.google.com/github/Umaporn19/data_viz_2022/blob/main/Python101.ipynb\" target=\"_parent\"><img src=\"https://colab.research.google.com/assets/colab-badge.svg\" alt=\"Open In Colab\"/></a>"
      ]
    },
    {
      "cell_type": "markdown",
      "source": [
        "ข้อความในช่อง text เป็นภาษา Markdown (https://www.markdownguide.org/cheat-sheet)"
      ],
      "metadata": {
        "id": "Us9cd1M-JHui"
      }
    },
    {
      "cell_type": "markdown",
      "source": [
        "# การจัดการข้อความในการแสดงผล\n",
        "## String\n",
        "### test heading 3"
      ],
      "metadata": {
        "id": "_S2WkBGTJj41"
      }
    },
    {
      "cell_type": "markdown",
      "source": [
        "`print(ข้อความ)`"
      ],
      "metadata": {
        "id": "CMQ3lysmKnaQ"
      }
    },
    {
      "cell_type": "code",
      "execution_count": 1,
      "metadata": {
        "colab": {
          "base_uri": "https://localhost:8080/",
          "height": 34
        },
        "id": "Fl0ya1LuI_58",
        "outputId": "50667675-f703-4e2f-a811-86267968ed9f"
      },
      "outputs": [
        {
          "output_type": "execute_result",
          "data": {
            "application/vnd.google.colaboratory.intrinsic+json": {
              "type": "string"
            },
            "text/plain": [
              "'สถิติ'"
            ]
          },
          "metadata": {},
          "execution_count": 1
        }
      ],
      "source": [
        "'สถิติ' # ' quote เหมือนกันกับอันข้างล่างไม่ได้ต่างกันเวลาแสดงผลออกมา"
      ]
    },
    {
      "cell_type": "code",
      "source": [
        "\"สถิติ\" # \" quote"
      ],
      "metadata": {
        "colab": {
          "base_uri": "https://localhost:8080/",
          "height": 34
        },
        "id": "7RhJoX5yLQEJ",
        "outputId": "58370f3e-446f-4f1a-db46-4d2eb1931bbd"
      },
      "execution_count": 2,
      "outputs": [
        {
          "output_type": "execute_result",
          "data": {
            "application/vnd.google.colaboratory.intrinsic+json": {
              "type": "string"
            },
            "text/plain": [
              "'สถิติ'"
            ]
          },
          "metadata": {},
          "execution_count": 2
        }
      ]
    },
    {
      "cell_type": "code",
      "source": [
        "1+3 # 1+3 = 4 "
      ],
      "metadata": {
        "colab": {
          "base_uri": "https://localhost:8080/"
        },
        "id": "QP9Jnp-kL2SF",
        "outputId": "75106fb9-d24d-40c4-d8ea-8fcc76503c77"
      },
      "execution_count": 3,
      "outputs": [
        {
          "output_type": "execute_result",
          "data": {
            "text/plain": [
              "4"
            ]
          },
          "metadata": {},
          "execution_count": 3
        }
      ]
    },
    {
      "cell_type": "code",
      "source": [
        "'1' + '3' #ข้อความบวกกันเวลาแสดงผลตัวเลขจะมาต่อกันเลย"
      ],
      "metadata": {
        "colab": {
          "base_uri": "https://localhost:8080/",
          "height": 34
        },
        "id": "rVyqVAxKL4Kk",
        "outputId": "7e24fce9-0236-41c9-dcd0-428939e26f29"
      },
      "execution_count": 4,
      "outputs": [
        {
          "output_type": "execute_result",
          "data": {
            "application/vnd.google.colaboratory.intrinsic+json": {
              "type": "string"
            },
            "text/plain": [
              "'13'"
            ]
          },
          "metadata": {},
          "execution_count": 4
        }
      ]
    },
    {
      "cell_type": "code",
      "source": [
        "1-3 #สามารถลบกันได้"
      ],
      "metadata": {
        "colab": {
          "base_uri": "https://localhost:8080/"
        },
        "id": "pHTJUmZrMFV4",
        "outputId": "0ee8e5b5-7cd2-470b-bec6-2fa1297572c6"
      },
      "execution_count": 5,
      "outputs": [
        {
          "output_type": "execute_result",
          "data": {
            "text/plain": [
              "-2"
            ]
          },
          "metadata": {},
          "execution_count": 5
        }
      ]
    },
    {
      "cell_type": "code",
      "source": [
        "'1'-'3' #ข้อความมาลบกันไม่ได้"
      ],
      "metadata": {
        "colab": {
          "base_uri": "https://localhost:8080/",
          "height": 166
        },
        "id": "dLVL1oZ7MHjI",
        "outputId": "07208ef8-0d51-4e08-f6cc-16491d2c3d59"
      },
      "execution_count": 8,
      "outputs": [
        {
          "output_type": "error",
          "ename": "TypeError",
          "evalue": "ignored",
          "traceback": [
            "\u001b[0;31m---------------------------------------------------------------------------\u001b[0m",
            "\u001b[0;31mTypeError\u001b[0m                                 Traceback (most recent call last)",
            "\u001b[0;32m<ipython-input-8-0671b3d45cb2>\u001b[0m in \u001b[0;36m<module>\u001b[0;34m()\u001b[0m\n\u001b[0;32m----> 1\u001b[0;31m \u001b[0;34m'1'\u001b[0m\u001b[0;34m-\u001b[0m\u001b[0;34m'3'\u001b[0m \u001b[0;31m#ข้อความมาลบกันไม่ได้\u001b[0m\u001b[0;34m\u001b[0m\u001b[0;34m\u001b[0m\u001b[0m\n\u001b[0m",
            "\u001b[0;31mTypeError\u001b[0m: unsupported operand type(s) for -: 'str' and 'str'"
          ]
        }
      ]
    },
    {
      "cell_type": "markdown",
      "source": [
        "## Print (ข้อความ)"
      ],
      "metadata": {
        "id": "k8zIAINGMYQs"
      }
    },
    {
      "cell_type": "code",
      "source": [
        "print('ข้อความที่อยากให้ print')"
      ],
      "metadata": {
        "colab": {
          "base_uri": "https://localhost:8080/"
        },
        "id": "wn4jyT9ZNDaP",
        "outputId": "0d23fe84-2c8f-4aaf-e467-2a06f8a04ce2"
      },
      "execution_count": 9,
      "outputs": [
        {
          "output_type": "stream",
          "name": "stdout",
          "text": [
            "ข้อความที่อยากให้ print\n"
          ]
        }
      ]
    },
    {
      "cell_type": "markdown",
      "source": [
        "# ตัวแปร (Variables)"
      ],
      "metadata": {
        "id": "o9xF8XTGKCUK"
      }
    },
    {
      "cell_type": "code",
      "source": [
        "vartest1 = 3 #ถ้าไม่แสดงค่าแสดงว่า 3 เก็บไว้ในตัวแปร vartest1"
      ],
      "metadata": {
        "id": "qCKESZytKGzo"
      },
      "execution_count": 10,
      "outputs": []
    },
    {
      "cell_type": "code",
      "source": [
        "vartest1 #แสดงค่าออกมา"
      ],
      "metadata": {
        "colab": {
          "base_uri": "https://localhost:8080/"
        },
        "id": "Jw7J0tEHN7J_",
        "outputId": "adce5508-1391-460e-ec3d-aa5dcf20d066"
      },
      "execution_count": 11,
      "outputs": [
        {
          "output_type": "execute_result",
          "data": {
            "text/plain": [
              "3"
            ]
          },
          "metadata": {},
          "execution_count": 11
        }
      ]
    },
    {
      "cell_type": "code",
      "source": [
        "print(vartest1) #แสดงค่าออกมาเหมือนกัน"
      ],
      "metadata": {
        "colab": {
          "base_uri": "https://localhost:8080/"
        },
        "id": "rY_WhvPVOCCT",
        "outputId": "58b49427-c8ce-4126-92a2-48cc56caa732"
      },
      "execution_count": 12,
      "outputs": [
        {
          "output_type": "stream",
          "name": "stdout",
          "text": [
            "3\n"
          ]
        }
      ]
    },
    {
      "cell_type": "code",
      "source": [
        "vartest2 = '1'+'3' #เก็บตัวแปร String ไว้ในตัวแปรชื่อว่า vartest2"
      ],
      "metadata": {
        "id": "6KeieRjFOHUF"
      },
      "execution_count": 13,
      "outputs": []
    },
    {
      "cell_type": "code",
      "source": [
        "vartest2 #รันค่าออก จะเห็นค่า ถ้าเป็น String จะเอาตัวหนังสือมาต่อกัน"
      ],
      "metadata": {
        "colab": {
          "base_uri": "https://localhost:8080/",
          "height": 34
        },
        "id": "QVy4L9UOOLHa",
        "outputId": "f57aa01d-a290-43e7-f9c5-5560af5e5cf0"
      },
      "execution_count": 14,
      "outputs": [
        {
          "output_type": "execute_result",
          "data": {
            "application/vnd.google.colaboratory.intrinsic+json": {
              "type": "string"
            },
            "text/plain": [
              "'13'"
            ]
          },
          "metadata": {},
          "execution_count": 14
        }
      ]
    },
    {
      "cell_type": "code",
      "source": [
        "print(vartest2)"
      ],
      "metadata": {
        "colab": {
          "base_uri": "https://localhost:8080/"
        },
        "id": "PEOD1vH9OP1C",
        "outputId": "8165d500-377b-4a8d-fd62-09a3e7c0fe62"
      },
      "execution_count": 15,
      "outputs": [
        {
          "output_type": "stream",
          "name": "stdout",
          "text": [
            "13\n"
          ]
        }
      ]
    },
    {
      "cell_type": "markdown",
      "source": [
        "## ข้อกำหนดในการตั้งชื่อตัวแปร\n",
        "1. ตั้งให้สื่อความหมาย\n",
        "2. ต้องเป็นภาษาอังกฤษ\n",
        "3. ใช้ตัวเลขผสมกับตัวหนังสือได้ แต่ห้ามขึ้นต้นด้วยตัวเลข\n",
        "4. ห้ามมีเว้นวรรคในชื่อตัวแปร\n",
        "5. ตัวใหญ่ ตัวเล็ก ค่าไม่เท่ากัน"
      ],
      "metadata": {
        "id": "MqqHtV8mOzS3"
      }
    },
    {
      "cell_type": "code",
      "source": [
        "1a = 7  #แบบนี้ไม่ได้เพราะตัวแปรขึ้นต้นด้วยตัวเลข"
      ],
      "metadata": {
        "colab": {
          "base_uri": "https://localhost:8080/",
          "height": 131
        },
        "id": "R8Cwppl4PMOm",
        "outputId": "46870310-51a5-4971-8fcc-2638ff74e4a0"
      },
      "execution_count": 17,
      "outputs": [
        {
          "output_type": "error",
          "ename": "SyntaxError",
          "evalue": "ignored",
          "traceback": [
            "\u001b[0;36m  File \u001b[0;32m\"<ipython-input-17-54dbbbb36370>\"\u001b[0;36m, line \u001b[0;32m1\u001b[0m\n\u001b[0;31m    1a = 7  #แบบนี้ไม่ได้เพราะตัวแปรขึ้นต้นด้วยตัวเลข\u001b[0m\n\u001b[0m     ^\u001b[0m\n\u001b[0;31mSyntaxError\u001b[0m\u001b[0;31m:\u001b[0m invalid syntax\n"
          ]
        }
      ]
    },
    {
      "cell_type": "code",
      "source": [
        "variable a = 1 #แบบนี้ไม่ได้เพราะมีเว้นวรรค"
      ],
      "metadata": {
        "colab": {
          "base_uri": "https://localhost:8080/",
          "height": 131
        },
        "id": "7xy6AlzKOTah",
        "outputId": "d695b811-75c5-445a-8d4d-53c1c88c8e13"
      },
      "execution_count": 19,
      "outputs": [
        {
          "output_type": "error",
          "ename": "SyntaxError",
          "evalue": "ignored",
          "traceback": [
            "\u001b[0;36m  File \u001b[0;32m\"<ipython-input-19-c3cafd32fc5d>\"\u001b[0;36m, line \u001b[0;32m1\u001b[0m\n\u001b[0;31m    variable a = 1 #แบบนี้ไม่ได้เพราะมีเว้นวรรค\u001b[0m\n\u001b[0m             ^\u001b[0m\n\u001b[0;31mSyntaxError\u001b[0m\u001b[0;31m:\u001b[0m invalid syntax\n"
          ]
        }
      ]
    },
    {
      "cell_type": "markdown",
      "source": [
        "## Advanced Prining\n",
        "เราสามารถ print ตัวแปรร่วมกับข้อความได้ \n",
        "``` python\n",
        "print (f'ข้อความ{code}')\n",
        "```"
      ],
      "metadata": {
        "id": "enEbzytxQAxT"
      }
    },
    {
      "cell_type": "code",
      "source": [
        "print(f'หนึ่ง บวก สอง (1+2) เท่ากับ สาม ({1+2})') # { } เรียกว่า Curly Backets "
      ],
      "metadata": {
        "colab": {
          "base_uri": "https://localhost:8080/"
        },
        "id": "OGvL-syrPqlv",
        "outputId": "3842b7b4-d96c-447d-d8b7-7e1097cc5255"
      },
      "execution_count": 20,
      "outputs": [
        {
          "output_type": "stream",
          "name": "stdout",
          "text": [
            "หนึ่ง บวก สอง (1+2) เท่ากับ สาม (3)\n"
          ]
        }
      ]
    },
    {
      "cell_type": "code",
      "source": [
        "a = 1 \n",
        "b= 2 \n",
        "print(f'หนึ่ง บวก สอง ({a}+{b}) เท่ากับ สาม ({a+b})') #ลองปริ้นค่า a และ b ออกมา โดนใช้คำสั่ง print "
      ],
      "metadata": {
        "colab": {
          "base_uri": "https://localhost:8080/"
        },
        "id": "VWiUvpPVRU8d",
        "outputId": "52a10637-dd8f-425b-9420-1fb5cb555eae"
      },
      "execution_count": 21,
      "outputs": [
        {
          "output_type": "stream",
          "name": "stdout",
          "text": [
            "หนึ่ง บวก สอง (1+2) เท่ากับ สาม (3)\n"
          ]
        }
      ]
    },
    {
      "cell_type": "code",
      "source": [
        "a = 5 #ตัวแปร a = 5\n",
        "b= 2 #ตัวแปร b = 2 "
      ],
      "metadata": {
        "id": "48tdTXoDRlcr"
      },
      "execution_count": 22,
      "outputs": []
    },
    {
      "cell_type": "code",
      "source": [
        "print(f'{a}+{b} =  {a+b}')  #ลองปริ้นค่า a และ b ออกมา โดนใช้คำสั่ง print "
      ],
      "metadata": {
        "colab": {
          "base_uri": "https://localhost:8080/"
        },
        "id": "WtoFe_pXRs9T",
        "outputId": "22ef6f37-135a-49ff-8fcd-94562c178cac"
      },
      "execution_count": 23,
      "outputs": [
        {
          "output_type": "stream",
          "name": "stdout",
          "text": [
            "5+2 =  7\n"
          ]
        }
      ]
    },
    {
      "cell_type": "code",
      "source": [
        "a = -1 #ตัวแปร a = -1 \n",
        "b = 11 #ตัวแปร b = 11"
      ],
      "metadata": {
        "id": "L-2nHdKER1jD"
      },
      "execution_count": 24,
      "outputs": []
    },
    {
      "cell_type": "markdown",
      "source": [
        "## ชนิดของตัวแปร"
      ],
      "metadata": {
        "id": "KMSVH5uTU_-9"
      }
    },
    {
      "cell_type": "markdown",
      "source": [
        "### char (acter) (ตัวอักษร)"
      ],
      "metadata": {
        "id": "ji-f_zhqVDK6"
      }
    },
    {
      "cell_type": "code",
      "source": [
        "a = 'Ch' #มีมากกว่า 1 ตัวเป็น String "
      ],
      "metadata": {
        "id": "RxmQk7JjTiut"
      },
      "execution_count": 25,
      "outputs": []
    },
    {
      "cell_type": "code",
      "source": [
        "b = 'aracter' #ตัวแปร b เก็บค่า คำว่า aracter"
      ],
      "metadata": {
        "id": "UHWAx022VNMx"
      },
      "execution_count": 26,
      "outputs": []
    },
    {
      "cell_type": "code",
      "source": [
        "print(f'a={a} b={b} , then {a}+{b} = {a+b}') #ปริ้นค่า a และ b ออกมา โดนใช้คำสั่ง print และให้ข้อความต่อกัน โดนใช้ + ข้อความจะต่อกันถ้าเป็นชนิด String "
      ],
      "metadata": {
        "colab": {
          "base_uri": "https://localhost:8080/"
        },
        "id": "iVvzAdN7VQ5E",
        "outputId": "54488e1c-eef5-4691-c51e-87b407093d87"
      },
      "execution_count": 27,
      "outputs": [
        {
          "output_type": "stream",
          "name": "stdout",
          "text": [
            "a=Ch b=aracter , then Ch+aracter = Character\n"
          ]
        }
      ]
    },
    {
      "cell_type": "code",
      "source": [
        "A = 'c' #ตัวเดียวเป็น Charecter\n",
        "B = 'a' #ตัวเดียวเป็น Charecter"
      ],
      "metadata": {
        "id": "OOM35OxaVbUN"
      },
      "execution_count": 28,
      "outputs": []
    },
    {
      "cell_type": "code",
      "source": [
        "print(A+B) #ปริ้นค่า a และ b ออกมา โดนใช้คำสั่ง print"
      ],
      "metadata": {
        "colab": {
          "base_uri": "https://localhost:8080/"
        },
        "id": "453VuLNrVfIk",
        "outputId": "cf3da761-53df-4d93-8803-d454b18f85e1"
      },
      "execution_count": 29,
      "outputs": [
        {
          "output_type": "stream",
          "name": "stdout",
          "text": [
            "ca\n"
          ]
        }
      ]
    },
    {
      "cell_type": "markdown",
      "source": [
        "### Int (eger) (จำนวนเต็ม)"
      ],
      "metadata": {
        "id": "JsagqoWWWeX1"
      }
    },
    {
      "cell_type": "code",
      "source": [
        "int_a = 7 #จำนวนเต็ม \n",
        "int_b = 2 #จำนวนเต็ม "
      ],
      "metadata": {
        "id": "OrbEd-VhViBN"
      },
      "execution_count": 30,
      "outputs": []
    },
    {
      "cell_type": "code",
      "source": [
        "int_c = int_a + int_b #int_c คือ เอา int_a + int_b บวกกัน จะได้ 7+2 = 9 นั่นเอง\n",
        "print(int_c)"
      ],
      "metadata": {
        "colab": {
          "base_uri": "https://localhost:8080/"
        },
        "id": "7Fc1h-yOWpMG",
        "outputId": "427fb2cc-0ef5-4a9d-ead5-5a81655ccf0b"
      },
      "execution_count": 31,
      "outputs": [
        {
          "output_type": "stream",
          "name": "stdout",
          "text": [
            "9\n"
          ]
        }
      ]
    },
    {
      "cell_type": "markdown",
      "source": [
        "### Float (จำนวนจริง ทศนิยม)"
      ],
      "metadata": {
        "id": "49D5h0t3XNL9"
      }
    },
    {
      "cell_type": "code",
      "source": [
        "fl_a = 7. #ถ้าอยากให้เป็น float ให้เติมจุดด้านหลัง\n",
        "fl_b = 2.571"
      ],
      "metadata": {
        "id": "K0oRL-eSWwZ_"
      },
      "execution_count": 32,
      "outputs": []
    },
    {
      "cell_type": "code",
      "source": [
        "fl_a #รันค่าตัวแปร fl_a จะเห็นว่าเป็นทศนิยม "
      ],
      "metadata": {
        "colab": {
          "base_uri": "https://localhost:8080/"
        },
        "id": "q5QVA55qXt2Y",
        "outputId": "61cc0ecf-5663-42c5-e82b-3949591345d8"
      },
      "execution_count": 33,
      "outputs": [
        {
          "output_type": "execute_result",
          "data": {
            "text/plain": [
              "7.0"
            ]
          },
          "metadata": {},
          "execution_count": 33
        }
      ]
    },
    {
      "cell_type": "code",
      "source": [
        "fl_b #รันค่าตัวแปร fl_b จะเห็นว่าเป็นทศนิยม "
      ],
      "metadata": {
        "colab": {
          "base_uri": "https://localhost:8080/"
        },
        "id": "juGiQH4tX03T",
        "outputId": "90e116fa-1d0b-4a19-d74f-983886b256d2"
      },
      "execution_count": 34,
      "outputs": [
        {
          "output_type": "execute_result",
          "data": {
            "text/plain": [
              "2.571"
            ]
          },
          "metadata": {},
          "execution_count": 34
        }
      ]
    },
    {
      "cell_type": "code",
      "source": [
        "print(fl_a) #ปริ้นตัวแปร fl_a จะเห็นว่าเป็นทศนิยม "
      ],
      "metadata": {
        "colab": {
          "base_uri": "https://localhost:8080/"
        },
        "id": "ez9zY6HVYZWO",
        "outputId": "b11367d5-9b9f-402e-d2b1-93b5aa1b7c2f"
      },
      "execution_count": 35,
      "outputs": [
        {
          "output_type": "stream",
          "name": "stdout",
          "text": [
            "7.0\n"
          ]
        }
      ]
    },
    {
      "cell_type": "code",
      "source": [
        "print(fl_b) #ปริ้นตัวแปร fl_b จะเห็นว่าเป็นทศนิยม "
      ],
      "metadata": {
        "colab": {
          "base_uri": "https://localhost:8080/"
        },
        "id": "vZNu0614Yhig",
        "outputId": "14944e45-7bd8-405d-88de-99369eba6f94"
      },
      "execution_count": 36,
      "outputs": [
        {
          "output_type": "stream",
          "name": "stdout",
          "text": [
            "2.571\n"
          ]
        }
      ]
    },
    {
      "cell_type": "code",
      "source": [
        "print(fl_a + fl_b) #ปริ้นตัวแปร fl_a  + กับ lf_b จะเห็นว่าคำตอบออกมาเป็นทศนิยม "
      ],
      "metadata": {
        "colab": {
          "base_uri": "https://localhost:8080/"
        },
        "id": "o5BBOZQIYkpQ",
        "outputId": "9368c4d1-904d-41b2-cf8c-abaab6d281bb"
      },
      "execution_count": 37,
      "outputs": [
        {
          "output_type": "stream",
          "name": "stdout",
          "text": [
            "9.571\n"
          ]
        }
      ]
    },
    {
      "cell_type": "markdown",
      "source": [
        "### Boolean (ตัวแปรที่มีค่า True หรือ False) ตรรกศาสตร์"
      ],
      "metadata": {
        "id": "WUFILMF9ZSsn"
      }
    },
    {
      "cell_type": "code",
      "source": [
        "b_T = True #สังเกตต้องเป็นหนังสือสีฟ้าเพราะเป็นคำสงวนไว้"
      ],
      "metadata": {
        "id": "_GP7LsasZq4o"
      },
      "execution_count": 38,
      "outputs": []
    },
    {
      "cell_type": "code",
      "source": [
        "b_F = False #สังเกตต้องเป็นหนังสือสีฟ้าเพราะเป็นคำสงวนไว้"
      ],
      "metadata": {
        "id": "2tERDTxTZwzc"
      },
      "execution_count": 39,
      "outputs": []
    },
    {
      "cell_type": "markdown",
      "source": [
        "### Complex (จำนวนเชิงซ้อน)"
      ],
      "metadata": {
        "id": "W9LPShkebsQf"
      }
    },
    {
      "cell_type": "code",
      "source": [
        "x = 1 +2j #จำนวนเชิงซ้อน "
      ],
      "metadata": {
        "id": "A1dBcR5Mb1QL"
      },
      "execution_count": 40,
      "outputs": []
    },
    {
      "cell_type": "markdown",
      "source": [
        "### เราสามารถตรวจสอบชนิดของตัวแปรด้วยคำสั่ง type()"
      ],
      "metadata": {
        "id": "_ACcW83Qb4u_"
      }
    },
    {
      "cell_type": "code",
      "source": [
        "print(f'ตัวแปร x ค่าคือ {x} ชนิด {type(x)}') #คำการตรวจสอบชนิดของตัวแปรโดยใช้คำสั่ง type "
      ],
      "metadata": {
        "colab": {
          "base_uri": "https://localhost:8080/"
        },
        "id": "P_VGubbCb_HA",
        "outputId": "a3d2c4f3-6901-4754-d8ca-b715cf015126"
      },
      "execution_count": 41,
      "outputs": [
        {
          "output_type": "stream",
          "name": "stdout",
          "text": [
            "ตัวแปร x ค่าคือ (1+2j) ชนิด <class 'complex'>\n"
          ]
        }
      ]
    },
    {
      "cell_type": "code",
      "source": [
        "print(f'ตัวแปร A ค่าคือ {A} ชนิด {type(A)}') #คำการตรวจสอบชนิดของตัวแปรโดยใช้คำสั่ง type "
      ],
      "metadata": {
        "colab": {
          "base_uri": "https://localhost:8080/"
        },
        "id": "OIRhDMnVclLz",
        "outputId": "b7d3ee5f-b029-41f4-a4fb-dc6593593193"
      },
      "execution_count": 42,
      "outputs": [
        {
          "output_type": "stream",
          "name": "stdout",
          "text": [
            "ตัวแปร A ค่าคือ c ชนิด <class 'str'>\n"
          ]
        }
      ]
    },
    {
      "cell_type": "code",
      "source": [
        "print(f'ตัวแปร a ค่าคือ {a} ชนิด {type(a)}') #คำการตรวจสอบชนิดของตัวแปรโดยใช้คำสั่ง type "
      ],
      "metadata": {
        "colab": {
          "base_uri": "https://localhost:8080/"
        },
        "id": "Iuk0rQLdcMvH",
        "outputId": "19a1dcc2-1286-4de0-f36b-2b5bb4d9406a"
      },
      "execution_count": 43,
      "outputs": [
        {
          "output_type": "stream",
          "name": "stdout",
          "text": [
            "ตัวแปร a ค่าคือ Ch ชนิด <class 'str'>\n"
          ]
        }
      ]
    },
    {
      "cell_type": "markdown",
      "source": [
        "# การแปลงชนิดของชนิดตัวแปร (Variable Casting)"
      ],
      "metadata": {
        "id": "leI01n3Pcwyv"
      }
    },
    {
      "cell_type": "code",
      "source": [
        "print(f' int_a = {int_a}  int_b = {int_b} fl_a =  {fl_a} fl_b =  {fl_b}') #ปริ้นค่าต่าง ๆ ออกมา "
      ],
      "metadata": {
        "colab": {
          "base_uri": "https://localhost:8080/"
        },
        "id": "No2DXQ-ncvYB",
        "outputId": "6ce45c1f-a518-4e27-dfa4-906298ffcb66"
      },
      "execution_count": 44,
      "outputs": [
        {
          "output_type": "stream",
          "name": "stdout",
          "text": [
            " int_a = 7  int_b = 2 fl_a =  7.0 fl_b =  2.571\n"
          ]
        }
      ]
    },
    {
      "cell_type": "code",
      "source": [
        "str_a = '6' #string ไม่สามาถนำมาบวกลบกันได้\n",
        "str_b = '-2'  #string ไม่สามาถนำมาบวกลบกันได้"
      ],
      "metadata": {
        "id": "4soKRLsWdVtR"
      },
      "execution_count": 45,
      "outputs": []
    },
    {
      "cell_type": "code",
      "source": [
        "str_a2int = int(str_a)\n",
        "print(f' ตัวแปร str_a2int ค่าคือ {str_a2int} ชนิด {type(str_a2int)}') #ปริ้นค่า ในตัวแปร str_2int และค่านั้นเป็นชนิดคือ int "
      ],
      "metadata": {
        "colab": {
          "base_uri": "https://localhost:8080/"
        },
        "id": "kQCfJgBWdyYD",
        "outputId": "c281350b-77d7-4dae-c811-57918306f77e"
      },
      "execution_count": 46,
      "outputs": [
        {
          "output_type": "stream",
          "name": "stdout",
          "text": [
            " ตัวแปร str_a2int ค่าคือ 6 ชนิด <class 'int'>\n"
          ]
        }
      ]
    },
    {
      "cell_type": "code",
      "source": [
        "str_a2int + int_ax "
      ],
      "metadata": {
        "colab": {
          "base_uri": "https://localhost:8080/",
          "height": 166
        },
        "id": "oOjkWhnPedR5",
        "outputId": "3edcc4c1-8abb-45e7-f6c9-e150b4e05746"
      },
      "execution_count": 54,
      "outputs": [
        {
          "output_type": "error",
          "ename": "NameError",
          "evalue": "ignored",
          "traceback": [
            "\u001b[0;31m---------------------------------------------------------------------------\u001b[0m",
            "\u001b[0;31mNameError\u001b[0m                                 Traceback (most recent call last)",
            "\u001b[0;32m<ipython-input-54-ea4314449a9d>\u001b[0m in \u001b[0;36m<module>\u001b[0;34m()\u001b[0m\n\u001b[0;32m----> 1\u001b[0;31m \u001b[0mstr_a2int\u001b[0m \u001b[0;34m+\u001b[0m \u001b[0mint_ax\u001b[0m\u001b[0;34m\u001b[0m\u001b[0;34m\u001b[0m\u001b[0m\n\u001b[0m",
            "\u001b[0;31mNameError\u001b[0m: name 'int_ax' is not defined"
          ]
        }
      ]
    },
    {
      "cell_type": "code",
      "source": [
        "str_a + int_a #ไม่สามารถเอา int ต่อกับ string ได้"
      ],
      "metadata": {
        "colab": {
          "base_uri": "https://localhost:8080/",
          "height": 166
        },
        "id": "sZtVlixnegqz",
        "outputId": "2764d00b-34e0-455b-d4d5-78b44ab6d3f7"
      },
      "execution_count": 55,
      "outputs": [
        {
          "output_type": "error",
          "ename": "TypeError",
          "evalue": "ignored",
          "traceback": [
            "\u001b[0;31m---------------------------------------------------------------------------\u001b[0m",
            "\u001b[0;31mTypeError\u001b[0m                                 Traceback (most recent call last)",
            "\u001b[0;32m<ipython-input-55-84daa50fd1c6>\u001b[0m in \u001b[0;36m<module>\u001b[0;34m()\u001b[0m\n\u001b[0;32m----> 1\u001b[0;31m \u001b[0mstr_a\u001b[0m \u001b[0;34m+\u001b[0m \u001b[0mint_a\u001b[0m \u001b[0;31m#ไม่สามารถเอา int ต่อกับ string ได้\u001b[0m\u001b[0;34m\u001b[0m\u001b[0;34m\u001b[0m\u001b[0m\n\u001b[0m",
            "\u001b[0;31mTypeError\u001b[0m: can only concatenate str (not \"int\") to str"
          ]
        }
      ]
    },
    {
      "cell_type": "code",
      "source": [
        "int_a + str_a #ไม่สามารถเอา string ต่อกับ int ได้ #เวลาอ่านข้อผิดพลาดอ่านบรรทัดสุดท้าย"
      ],
      "metadata": {
        "colab": {
          "base_uri": "https://localhost:8080/",
          "height": 166
        },
        "id": "m4H0ryAfejvS",
        "outputId": "a0b50e0d-d5b3-4897-8223-ea904fde395a"
      },
      "execution_count": 56,
      "outputs": [
        {
          "output_type": "error",
          "ename": "TypeError",
          "evalue": "ignored",
          "traceback": [
            "\u001b[0;31m---------------------------------------------------------------------------\u001b[0m",
            "\u001b[0;31mTypeError\u001b[0m                                 Traceback (most recent call last)",
            "\u001b[0;32m<ipython-input-56-e7d8fd4e695e>\u001b[0m in \u001b[0;36m<module>\u001b[0;34m()\u001b[0m\n\u001b[0;32m----> 1\u001b[0;31m \u001b[0mint_a\u001b[0m \u001b[0;34m+\u001b[0m \u001b[0mstr_a\u001b[0m \u001b[0;31m#ไม่สามารถเอา string ต่อกับ int ได้ #เวลาอ่านข้อผิดพลาดอ่านบรรทัดสุดท้าย\u001b[0m\u001b[0;34m\u001b[0m\u001b[0;34m\u001b[0m\u001b[0m\n\u001b[0m",
            "\u001b[0;31mTypeError\u001b[0m: unsupported operand type(s) for +: 'int' and 'str'"
          ]
        }
      ]
    },
    {
      "cell_type": "code",
      "source": [
        "int (fl_b) #เปลี่ยน float เป็น int"
      ],
      "metadata": {
        "colab": {
          "base_uri": "https://localhost:8080/"
        },
        "id": "gEtXTJGUeqz4",
        "outputId": "a5669d80-4c7d-4523-afcc-96fac60a8a81"
      },
      "execution_count": 57,
      "outputs": [
        {
          "output_type": "execute_result",
          "data": {
            "text/plain": [
              "2"
            ]
          },
          "metadata": {},
          "execution_count": 57
        }
      ]
    },
    {
      "cell_type": "code",
      "source": [
        "float(int_a) #เปลี่ยน int เป็น float"
      ],
      "metadata": {
        "colab": {
          "base_uri": "https://localhost:8080/"
        },
        "id": "3ZXm67CEfMTs",
        "outputId": "85fee70f-0ff3-42b1-cdcd-a35ec2a40c95"
      },
      "execution_count": 58,
      "outputs": [
        {
          "output_type": "execute_result",
          "data": {
            "text/plain": [
              "7.0"
            ]
          },
          "metadata": {},
          "execution_count": 58
        }
      ]
    },
    {
      "cell_type": "code",
      "source": [
        "str(fl_b) #เปลี่ยน float เป็น string "
      ],
      "metadata": {
        "colab": {
          "base_uri": "https://localhost:8080/",
          "height": 34
        },
        "id": "mytu2A_Kfnsq",
        "outputId": "00958601-223b-4f6a-a82f-4fecbd388c4f"
      },
      "execution_count": 60,
      "outputs": [
        {
          "output_type": "execute_result",
          "data": {
            "application/vnd.google.colaboratory.intrinsic+json": {
              "type": "string"
            },
            "text/plain": [
              "'2.571'"
            ]
          },
          "metadata": {},
          "execution_count": 60
        }
      ]
    },
    {
      "cell_type": "markdown",
      "source": [
        "# Operation (เอาตัวแปร 2 ตัวมาทำอะไรกัน)"
      ],
      "metadata": {
        "id": "ZZ-9D9hfgBHo"
      }
    },
    {
      "cell_type": "markdown",
      "source": [
        "### Operators (บวก (+) , ลบ (-) , คูณ (*) , หาร (/) , modulo (%) , and (&) , or (|))"
      ],
      "metadata": {
        "id": "tOCOjltIgjfC"
      }
    },
    {
      "cell_type": "code",
      "source": [
        "fl_a + int_b # float กับ int บวกกันได้"
      ],
      "metadata": {
        "colab": {
          "base_uri": "https://localhost:8080/"
        },
        "id": "teO6MQBrfxVg",
        "outputId": "7b1b0d08-a73e-4c27-dc49-9b62bf46d0d1"
      },
      "execution_count": 61,
      "outputs": [
        {
          "output_type": "execute_result",
          "data": {
            "text/plain": [
              "9.0"
            ]
          },
          "metadata": {},
          "execution_count": 61
        }
      ]
    },
    {
      "cell_type": "code",
      "source": [
        "9%2 #การหารเอาเศษ"
      ],
      "metadata": {
        "colab": {
          "base_uri": "https://localhost:8080/"
        },
        "id": "vI4EmQbThQ_b",
        "outputId": "2d4e9195-9364-4fbe-d2c0-01d952dfdccb"
      },
      "execution_count": 62,
      "outputs": [
        {
          "output_type": "execute_result",
          "data": {
            "text/plain": [
              "1"
            ]
          },
          "metadata": {},
          "execution_count": 62
        }
      ]
    },
    {
      "cell_type": "code",
      "source": [
        "100%2 #เอา 2 มา mod เลขคู่ ได้ 0 หรือเอา 2 มา mod เลขคี่จะได้ 1 "
      ],
      "metadata": {
        "colab": {
          "base_uri": "https://localhost:8080/"
        },
        "id": "Scy-1IrzhVfW",
        "outputId": "a452447e-5844-4c2a-d574-23e256eca414"
      },
      "execution_count": 63,
      "outputs": [
        {
          "output_type": "execute_result",
          "data": {
            "text/plain": [
              "0"
            ]
          },
          "metadata": {},
          "execution_count": 63
        }
      ]
    },
    {
      "cell_type": "code",
      "source": [
        "int_a / int_b # แต่ก่อน int / int จะได้ int เหมือนเดิม"
      ],
      "metadata": {
        "colab": {
          "base_uri": "https://localhost:8080/"
        },
        "id": "PLU94Y2OhZIx",
        "outputId": "585708b7-c163-45b5-e1d1-6f5b52001d5e"
      },
      "execution_count": 64,
      "outputs": [
        {
          "output_type": "execute_result",
          "data": {
            "text/plain": [
              "3.5"
            ]
          },
          "metadata": {},
          "execution_count": 64
        }
      ]
    },
    {
      "cell_type": "code",
      "source": [
        "int(int_a / int_b) #หารเอาจำนวนเต็ม"
      ],
      "metadata": {
        "colab": {
          "base_uri": "https://localhost:8080/"
        },
        "id": "y5e5Miqzhosx",
        "outputId": "3b63e3ba-c104-436c-9836-df7872209b0f"
      },
      "execution_count": 65,
      "outputs": [
        {
          "output_type": "execute_result",
          "data": {
            "text/plain": [
              "3"
            ]
          },
          "metadata": {},
          "execution_count": 65
        }
      ]
    },
    {
      "cell_type": "code",
      "source": [
        "False & False # & อ่านว่า และ"
      ],
      "metadata": {
        "colab": {
          "base_uri": "https://localhost:8080/"
        },
        "id": "6XjXwkvgh7eV",
        "outputId": "6340a7b3-e519-4ecf-e9d4-c99193ee27ed"
      },
      "execution_count": 66,
      "outputs": [
        {
          "output_type": "execute_result",
          "data": {
            "text/plain": [
              "False"
            ]
          },
          "metadata": {},
          "execution_count": 66
        }
      ]
    },
    {
      "cell_type": "code",
      "source": [
        "False & True # & อ่านว่า และ"
      ],
      "metadata": {
        "colab": {
          "base_uri": "https://localhost:8080/"
        },
        "id": "6nCAJeLliCJ5",
        "outputId": "c855bbe5-ecf7-4405-a235-804757e5f8a4"
      },
      "execution_count": 67,
      "outputs": [
        {
          "output_type": "execute_result",
          "data": {
            "text/plain": [
              "False"
            ]
          },
          "metadata": {},
          "execution_count": 67
        }
      ]
    },
    {
      "cell_type": "code",
      "source": [
        "False | True # | หรือ เรียกว่า บาร์"
      ],
      "metadata": {
        "colab": {
          "base_uri": "https://localhost:8080/"
        },
        "id": "R1guOrGWiEbR",
        "outputId": "d6d2e611-636f-4467-a11e-69160cf64df6"
      },
      "execution_count": 68,
      "outputs": [
        {
          "output_type": "execute_result",
          "data": {
            "text/plain": [
              "True"
            ]
          },
          "metadata": {},
          "execution_count": 68
        }
      ]
    },
    {
      "cell_type": "markdown",
      "source": [
        "## String Operations "
      ],
      "metadata": {
        "id": "M00wXrBPigel"
      }
    },
    {
      "cell_type": "markdown",
      "source": [
        "### ```+``` ->ก็คิอ  concat, ```*``` -> ก็คือ  repeat"
      ],
      "metadata": {
        "id": "gI68UOPB0sWW"
      }
    },
    {
      "cell_type": "code",
      "source": [
        "st_test1 = 'Department of Statistics,' #เก็บค่าตัวแปรไว้ใน st_test1\n",
        "st_test2 = 'Faculty of Science' #เก็บค่าตัวแปรไว้ใน st_test2"
      ],
      "metadata": {
        "id": "Vtjhj03nilNF"
      },
      "execution_count": 3,
      "outputs": []
    },
    {
      "cell_type": "code",
      "source": [
        "print(st_test1+st_test2) # + คือเอา 2 string มาต่อกัน"
      ],
      "metadata": {
        "id": "LA6pgSpHzSyg",
        "outputId": "431ab3f4-dac8-478e-deae-4c1e7fa63d33",
        "colab": {
          "base_uri": "https://localhost:8080/"
        }
      },
      "execution_count": 4,
      "outputs": [
        {
          "output_type": "stream",
          "name": "stdout",
          "text": [
            "Department of Statistics,Faculty of Science\n"
          ]
        }
      ]
    },
    {
      "cell_type": "code",
      "source": [
        "print(10*'t') #มี t 10 ตัว "
      ],
      "metadata": {
        "id": "_aoFHWbj0b4p",
        "outputId": "7a86d9b6-a28f-4e18-c414-47a1cc904277",
        "colab": {
          "base_uri": "https://localhost:8080/"
        }
      },
      "execution_count": 6,
      "outputs": [
        {
          "output_type": "stream",
          "name": "stdout",
          "text": [
            "tttttttttt\n"
          ]
        }
      ]
    },
    {
      "cell_type": "code",
      "source": [
        "print(3*st_test1) #เบิ้ล 3 รอบ "
      ],
      "metadata": {
        "id": "02k4jfQL0ihm",
        "outputId": "d1770278-fec2-4a96-a295-8f074c3a0ccc",
        "colab": {
          "base_uri": "https://localhost:8080/"
        }
      },
      "execution_count": 8,
      "outputs": [
        {
          "output_type": "stream",
          "name": "stdout",
          "text": [
            "Department of Statistics,Department of Statistics,Department of Statistics,\n"
          ]
        }
      ]
    },
    {
      "cell_type": "markdown",
      "source": [
        " repeat() แทนที่ string "
      ],
      "metadata": {
        "id": "8sc1ffjq1JfC"
      }
    },
    {
      "cell_type": "code",
      "source": [
        "st_test1.replace('e',' ') #ถ้าเจอ e ให้แทนเป็นช่องว่าง"
      ],
      "metadata": {
        "id": "W_4GPcle0mGk",
        "outputId": "1ad6c93c-f045-4f66-adf1-3bc819d334e8",
        "colab": {
          "base_uri": "https://localhost:8080/",
          "height": 34
        }
      },
      "execution_count": 10,
      "outputs": [
        {
          "output_type": "execute_result",
          "data": {
            "application/vnd.google.colaboratory.intrinsic+json": {
              "type": "string"
            },
            "text/plain": [
              "'D partm nt of Statistics,'"
            ]
          },
          "metadata": {},
          "execution_count": 10
        }
      ]
    },
    {
      "cell_type": "code",
      "source": [
        "st_test1.replace('e', '') #ถ้าเป็นกรณีแบบนี้ถ้าเจอ e มันจะตัดออก"
      ],
      "metadata": {
        "id": "ITCLkDU719Cn",
        "outputId": "40b9b1ef-1879-4705-a56c-c66789619ff8",
        "colab": {
          "base_uri": "https://localhost:8080/",
          "height": 34
        }
      },
      "execution_count": 12,
      "outputs": [
        {
          "output_type": "execute_result",
          "data": {
            "application/vnd.google.colaboratory.intrinsic+json": {
              "type": "string"
            },
            "text/plain": [
              "'Dpartmnt of Statistics,'"
            ]
          },
          "metadata": {},
          "execution_count": 12
        }
      ]
    },
    {
      "cell_type": "code",
      "source": [
        "st_test1"
      ],
      "metadata": {
        "id": "EATzIwgR2IwX",
        "outputId": "6441b404-ee52-4b81-a4d4-892857419497",
        "colab": {
          "base_uri": "https://localhost:8080/",
          "height": 34
        }
      },
      "execution_count": 13,
      "outputs": [
        {
          "output_type": "execute_result",
          "data": {
            "application/vnd.google.colaboratory.intrinsic+json": {
              "type": "string"
            },
            "text/plain": [
              "'Department of Statistics,'"
            ]
          },
          "metadata": {},
          "execution_count": 13
        }
      ]
    },
    {
      "cell_type": "code",
      "source": [
        "'Department of Statistics, '.replace('a','x') #ตรงไหนมี a แทนด้วย ตัว x"
      ],
      "metadata": {
        "id": "nsD4eHiR3CwQ",
        "outputId": "7611a921-2240-4eeb-e17c-423efa93d1f6",
        "colab": {
          "base_uri": "https://localhost:8080/",
          "height": 34
        }
      },
      "execution_count": 15,
      "outputs": [
        {
          "output_type": "execute_result",
          "data": {
            "application/vnd.google.colaboratory.intrinsic+json": {
              "type": "string"
            },
            "text/plain": [
              "'Depxrtment of Stxtistics, '"
            ]
          },
          "metadata": {},
          "execution_count": 15
        }
      ]
    },
    {
      "cell_type": "markdown",
      "source": [
        "## ```Split()```  แยก String \n",
        "\n"
      ],
      "metadata": {
        "id": "TDtj8CN92S3-"
      }
    },
    {
      "cell_type": "code",
      "source": [
        "'a b c e f g'.split() #จะแยกออกให้โดยผลลัพธ์จะมีคอมม่า แยกให้เลย แต่ละตัว "
      ],
      "metadata": {
        "id": "IU4hxO3_2PcB",
        "outputId": "4334217a-9bc3-4eba-86b4-abd3d386a6ab",
        "colab": {
          "base_uri": "https://localhost:8080/"
        }
      },
      "execution_count": 21,
      "outputs": [
        {
          "output_type": "execute_result",
          "data": {
            "text/plain": [
              "['a', 'b', 'c', 'e', 'f', 'g']"
            ]
          },
          "metadata": {},
          "execution_count": 21
        }
      ]
    },
    {
      "cell_type": "code",
      "source": [
        "'a b/ c e/ f g'.split('/') #จะแยกออกด้วย / ถ้าตัวไหนไม่มี / มันก็จะแยกด้วยช่องว่าง"
      ],
      "metadata": {
        "id": "W6jjT-xl3QUP",
        "outputId": "667b9a6c-4728-4523-baaa-7208be4255b0",
        "colab": {
          "base_uri": "https://localhost:8080/"
        }
      },
      "execution_count": 23,
      "outputs": [
        {
          "output_type": "execute_result",
          "data": {
            "text/plain": [
              "['a b', ' c e', ' f g']"
            ]
          },
          "metadata": {},
          "execution_count": 23
        }
      ]
    }
  ]
}