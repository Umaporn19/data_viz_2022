{
  "nbformat": 4,
  "nbformat_minor": 0,
  "metadata": {
    "colab": {
      "name": "Data Structure.ipynb",
      "provenance": [],
      "authorship_tag": "ABX9TyMetlZdPM+ME4qqzawZ9RI0",
      "include_colab_link": true
    },
    "kernelspec": {
      "name": "python3",
      "display_name": "Python 3"
    },
    "language_info": {
      "name": "python"
    }
  },
  "cells": [
    {
      "cell_type": "markdown",
      "metadata": {
        "id": "view-in-github",
        "colab_type": "text"
      },
      "source": [
        "<a href=\"https://colab.research.google.com/github/Umaporn19/data_viz_2022/blob/main/Data_Structure.ipynb\" target=\"_parent\"><img src=\"https://colab.research.google.com/assets/colab-badge.svg\" alt=\"Open In Colab\"/></a>"
      ]
    },
    {
      "cell_type": "markdown",
      "source": [
        "# Data Structure (โครงสร้างข้อมูล)\n",
        "การเก็บข้อมูลหลาย ๆ ตัวไว้ด้วยกันอย่างเป็นระเบียบ"
      ],
      "metadata": {
        "id": "jl2B7xir53L7"
      }
    },
    {
      "cell_type": "markdown",
      "source": [
        "## ```List()``` \n",
        "\n",
        "- เก็บอะไรก็ได้\n",
        "- ลำดับในการเก็บ มีความสำคัญ"
      ],
      "metadata": {
        "id": "EMf3VE4z6UY6"
      }
    },
    {
      "cell_type": "code",
      "execution_count": 180,
      "metadata": {
        "id": "bDv7CjkF4u4E"
      },
      "outputs": [],
      "source": [
        "list_a = [1,2,3,4,5,6] #เก็บข้อมูลไว้ใน list_a    # [  ] มีชื่อว่า Square brackets"
      ]
    },
    {
      "cell_type": "code",
      "source": [
        "list_a #รันค่าออกมาดู"
      ],
      "metadata": {
        "colab": {
          "base_uri": "https://localhost:8080/"
        },
        "id": "xLhzh1LU6hwf",
        "outputId": "2f9a7a0f-dd19-4fe0-ded1-836e8afe4702"
      },
      "execution_count": 181,
      "outputs": [
        {
          "output_type": "execute_result",
          "data": {
            "text/plain": [
              "[1, 2, 3, 4, 5, 6]"
            ]
          },
          "metadata": {},
          "execution_count": 181
        }
      ]
    },
    {
      "cell_type": "code",
      "source": [
        "list_b = ['ab',2,3.14,list_a] #list สามารถเก็บได้ทุกชนิดได้หมเ"
      ],
      "metadata": {
        "id": "qs2WiLmz6ofZ"
      },
      "execution_count": 182,
      "outputs": []
    },
    {
      "cell_type": "code",
      "source": [
        "list_b #รันค่าออกมาดู"
      ],
      "metadata": {
        "colab": {
          "base_uri": "https://localhost:8080/"
        },
        "id": "LlbbIEhV7Dlt",
        "outputId": "e8c8ca2a-aa01-48b5-fd2e-1f33c018e95e"
      },
      "execution_count": 183,
      "outputs": [
        {
          "output_type": "execute_result",
          "data": {
            "text/plain": [
              "['ab', 2, 3.14, [1, 2, 3, 4, 5, 6]]"
            ]
          },
          "metadata": {},
          "execution_count": 183
        }
      ]
    },
    {
      "cell_type": "code",
      "source": [
        "list_a[3] #ในคอมจะนับตัวแรกคือตัวที่ 0"
      ],
      "metadata": {
        "colab": {
          "base_uri": "https://localhost:8080/"
        },
        "id": "VWUX1iON7F3A",
        "outputId": "5d22d2dc-a7b2-4969-ea55-59656eabe26e"
      },
      "execution_count": 184,
      "outputs": [
        {
          "output_type": "execute_result",
          "data": {
            "text/plain": [
              "4"
            ]
          },
          "metadata": {},
          "execution_count": 184
        }
      ]
    },
    {
      "cell_type": "markdown",
      "source": [
        "### indecing การชี้สมาชิกใน list ด้วย เลขลำดับของ list "
      ],
      "metadata": {
        "id": "19PZxbL-8MQZ"
      }
    },
    {
      "cell_type": "code",
      "source": [
        "list_b[3] #list ตัวที่ 3 ใน list b "
      ],
      "metadata": {
        "colab": {
          "base_uri": "https://localhost:8080/"
        },
        "id": "T8dGR4YG7iTp",
        "outputId": "f1068f06-82e2-452c-dc62-92cc4ae6827e"
      },
      "execution_count": 185,
      "outputs": [
        {
          "output_type": "execute_result",
          "data": {
            "text/plain": [
              "[1, 2, 3, 4, 5, 6]"
            ]
          },
          "metadata": {},
          "execution_count": 185
        }
      ]
    },
    {
      "cell_type": "code",
      "source": [
        "list_b[3][3]  #list ตัวที่ 3 ใน list b แล้วก็ตัวที่ 3 ใน [ ] อีกที"
      ],
      "metadata": {
        "colab": {
          "base_uri": "https://localhost:8080/"
        },
        "id": "Nsmv3Dzo7iRV",
        "outputId": "8a53eac0-c84d-43e9-ba47-adccd0f6ef84"
      },
      "execution_count": 186,
      "outputs": [
        {
          "output_type": "execute_result",
          "data": {
            "text/plain": [
              "4"
            ]
          },
          "metadata": {},
          "execution_count": 186
        }
      ]
    },
    {
      "cell_type": "code",
      "source": [
        "list_b[3][4]  #list ตัวที่ 3 ใน list b แล้วก็ตัวที่ 4 ใน [ ] อีกที"
      ],
      "metadata": {
        "colab": {
          "base_uri": "https://localhost:8080/"
        },
        "id": "ROXf84YJ7iPE",
        "outputId": "38dcb492-4576-4944-bd73-bd93f863bbac"
      },
      "execution_count": 187,
      "outputs": [
        {
          "output_type": "execute_result",
          "data": {
            "text/plain": [
              "5"
            ]
          },
          "metadata": {},
          "execution_count": 187
        }
      ]
    },
    {
      "cell_type": "code",
      "source": [
        "list_a[6] #เรียก list ตัวที่ไม่ได้อยู่ใน [] จะเอ่อเร่อ"
      ],
      "metadata": {
        "colab": {
          "base_uri": "https://localhost:8080/",
          "height": 166
        },
        "id": "W3rqf1ra7iMj",
        "outputId": "b43e1bff-392c-43c8-ccc6-b7e5b226eef6"
      },
      "execution_count": 188,
      "outputs": [
        {
          "output_type": "error",
          "ename": "IndexError",
          "evalue": "ignored",
          "traceback": [
            "\u001b[0;31m---------------------------------------------------------------------------\u001b[0m",
            "\u001b[0;31mIndexError\u001b[0m                                Traceback (most recent call last)",
            "\u001b[0;32m<ipython-input-188-cbb255fd68c2>\u001b[0m in \u001b[0;36m<module>\u001b[0;34m()\u001b[0m\n\u001b[0;32m----> 1\u001b[0;31m \u001b[0mlist_a\u001b[0m\u001b[0;34m[\u001b[0m\u001b[0;36m6\u001b[0m\u001b[0;34m]\u001b[0m \u001b[0;31m#เรียก list ตัวที่ไม่ได้อยู่ใน [] จะเอ่อเร่อ\u001b[0m\u001b[0;34m\u001b[0m\u001b[0;34m\u001b[0m\u001b[0m\n\u001b[0m",
            "\u001b[0;31mIndexError\u001b[0m: list index out of range"
          ]
        }
      ]
    },
    {
      "cell_type": "code",
      "source": [
        "list_a[-1] #index จากตัวด้านหลังตัวสุดท้ายของ list"
      ],
      "metadata": {
        "colab": {
          "base_uri": "https://localhost:8080/"
        },
        "id": "fBREQ49u7iJ5",
        "outputId": "f8e21201-6c05-423c-b7b6-b1a515a40db2"
      },
      "execution_count": 189,
      "outputs": [
        {
          "output_type": "execute_result",
          "data": {
            "text/plain": [
              "6"
            ]
          },
          "metadata": {},
          "execution_count": 189
        }
      ]
    },
    {
      "cell_type": "code",
      "source": [
        "list_a[-4] #index นับจากหลังมาหน้าตัวที่ 4"
      ],
      "metadata": {
        "colab": {
          "base_uri": "https://localhost:8080/"
        },
        "id": "bRjb_fEq7iHh",
        "outputId": "0555f7aa-1f11-442f-9e3f-c35228133671"
      },
      "execution_count": 190,
      "outputs": [
        {
          "output_type": "execute_result",
          "data": {
            "text/plain": [
              "3"
            ]
          },
          "metadata": {},
          "execution_count": 190
        }
      ]
    },
    {
      "cell_type": "markdown",
      "source": [
        "### การสร้าง ```list()``` "
      ],
      "metadata": {
        "id": "PAB-UMLP9dvJ"
      }
    },
    {
      "cell_type": "code",
      "source": [
        "list_x1 = []  #การสร้าง list แบบที่ 1 \n",
        "list_x2 = list() #การสร้าง list แบบที่ 2 "
      ],
      "metadata": {
        "id": "0DtyKhch7iCZ"
      },
      "execution_count": 191,
      "outputs": []
    },
    {
      "cell_type": "code",
      "source": [
        "print(list_x1) #print ทั้ง 2 list จะได้ list ว่าง\n",
        "print(list_x2)"
      ],
      "metadata": {
        "colab": {
          "base_uri": "https://localhost:8080/"
        },
        "id": "ZlPh3fFb9COR",
        "outputId": "75f218bd-f66f-4ab6-e630-48c6fa92e4b3"
      },
      "execution_count": 192,
      "outputs": [
        {
          "output_type": "stream",
          "name": "stdout",
          "text": [
            "[]\n",
            "[]\n"
          ]
        }
      ]
    },
    {
      "cell_type": "markdown",
      "source": [
        "### เพิ่มสมาชิกเข้าไปใน list ด้วย `append()`"
      ],
      "metadata": {
        "id": "8Hj26shu-O8M"
      }
    },
    {
      "cell_type": "code",
      "source": [
        "list_x1.append(2) #ไม่มีอะไรเกิดขึ้นแสดงว่า 2 มันต้องไปปรากฎที่ไหนสักที่หนึ่ง มันถูกแทรกเข้าไปใน list_x1 แล้ว"
      ],
      "metadata": {
        "id": "mTlmmLyHSaws"
      },
      "execution_count": 193,
      "outputs": []
    },
    {
      "cell_type": "code",
      "source": [
        "list_x1 #จะได้ผลออกมา"
      ],
      "metadata": {
        "colab": {
          "base_uri": "https://localhost:8080/"
        },
        "id": "C6GKPhWB9CJd",
        "outputId": "3528bfc9-7a99-400a-c7c1-22a127fb30f5"
      },
      "execution_count": 194,
      "outputs": [
        {
          "output_type": "execute_result",
          "data": {
            "text/plain": [
              "[2]"
            ]
          },
          "metadata": {},
          "execution_count": 194
        }
      ]
    },
    {
      "cell_type": "code",
      "source": [
        "list_x1.append(4) #เอา 4 มาแทนใน list_x1\n",
        "print(list_x1)"
      ],
      "metadata": {
        "colab": {
          "base_uri": "https://localhost:8080/"
        },
        "id": "pMkhhXJL-ufN",
        "outputId": "5b533404-27a1-4a79-b304-8ce7095a05a6"
      },
      "execution_count": 195,
      "outputs": [
        {
          "output_type": "stream",
          "name": "stdout",
          "text": [
            "[2, 4]\n"
          ]
        }
      ]
    },
    {
      "cell_type": "code",
      "source": [
        "list_x1[0]"
      ],
      "metadata": {
        "id": "27Ad7MzdSyd2",
        "outputId": "1d1dcf74-605e-4d8a-f1e4-46eb4ebfde2c",
        "colab": {
          "base_uri": "https://localhost:8080/"
        }
      },
      "execution_count": 196,
      "outputs": [
        {
          "output_type": "execute_result",
          "data": {
            "text/plain": [
              "2"
            ]
          },
          "metadata": {},
          "execution_count": 196
        }
      ]
    },
    {
      "cell_type": "code",
      "source": [
        "list_x1[-1]"
      ],
      "metadata": {
        "id": "ZyMurH_ZS4Az",
        "outputId": "a968c61b-e1c2-4167-847e-72051441009f",
        "colab": {
          "base_uri": "https://localhost:8080/"
        }
      },
      "execution_count": 197,
      "outputs": [
        {
          "output_type": "execute_result",
          "data": {
            "text/plain": [
              "4"
            ]
          },
          "metadata": {},
          "execution_count": 197
        }
      ]
    },
    {
      "cell_type": "code",
      "source": [
        "list_x2"
      ],
      "metadata": {
        "id": "dEDFEewzS6qL",
        "outputId": "c3260718-66ee-4f55-db55-baeda102ec5c",
        "colab": {
          "base_uri": "https://localhost:8080/"
        }
      },
      "execution_count": 198,
      "outputs": [
        {
          "output_type": "execute_result",
          "data": {
            "text/plain": [
              "[]"
            ]
          },
          "metadata": {},
          "execution_count": 198
        }
      ]
    },
    {
      "cell_type": "code",
      "source": [
        "list_x2.append('ha')  #แทนค่า ha ใน list_x2"
      ],
      "metadata": {
        "id": "Rjl-Pm4IS-sT"
      },
      "execution_count": 205,
      "outputs": []
    },
    {
      "cell_type": "code",
      "source": [
        "list_x2 #แสดงค่า list_x2 ออกมา #ที่ผลรันออกมา 2 ตัวเพราะรัน 2 ครั้ง"
      ],
      "metadata": {
        "id": "2UQxsMeuTBI4",
        "outputId": "729bad47-63f8-4bff-dde7-e30832c0bf69",
        "colab": {
          "base_uri": "https://localhost:8080/"
        }
      },
      "execution_count": 207,
      "outputs": [
        {
          "output_type": "execute_result",
          "data": {
            "text/plain": [
              "['ha', 'ha', 'ha']"
            ]
          },
          "metadata": {},
          "execution_count": 207
        }
      ]
    },
    {
      "cell_type": "markdown",
      "source": [
        "### ลบสมาชิกจาก list "
      ],
      "metadata": {
        "id": "SdEtryiMAO9E"
      }
    },
    {
      "cell_type": "code",
      "source": [
        "list_x1.append('ha') # ลบคำว่า ha ออกครั้งนึง"
      ],
      "metadata": {
        "id": "t49lqB7pAhdf"
      },
      "execution_count": 209,
      "outputs": []
    },
    {
      "cell_type": "code",
      "source": [
        "list_x1 #ลองแสดงค่าออกมาดู"
      ],
      "metadata": {
        "id": "2ylhyY3jTie0",
        "outputId": "1c4aa13a-77c0-4df4-8cde-eded03d793de",
        "colab": {
          "base_uri": "https://localhost:8080/"
        }
      },
      "execution_count": 210,
      "outputs": [
        {
          "output_type": "execute_result",
          "data": {
            "text/plain": [
              "[2, 4, 'ha', 'ha']"
            ]
          },
          "metadata": {},
          "execution_count": 210
        }
      ]
    },
    {
      "cell_type": "code",
      "source": [
        "list_x1.pop() #ลบค่า x1 ครั้งที่ 1"
      ],
      "metadata": {
        "id": "86OSfn4NTvR9",
        "outputId": "35f18f79-21ef-42fe-d0c9-d36836086044",
        "colab": {
          "base_uri": "https://localhost:8080/",
          "height": 35
        }
      },
      "execution_count": 211,
      "outputs": [
        {
          "output_type": "execute_result",
          "data": {
            "application/vnd.google.colaboratory.intrinsic+json": {
              "type": "string"
            },
            "text/plain": [
              "'ha'"
            ]
          },
          "metadata": {},
          "execution_count": 211
        }
      ]
    },
    {
      "cell_type": "code",
      "source": [
        "list_x1 #ลองแสดงค่าใหม่ครั้งที่ 1 "
      ],
      "metadata": {
        "id": "_f-WNTX9Ty9t",
        "outputId": "ddf07d3d-a12f-44d0-f4bb-0a9211b6ae48",
        "colab": {
          "base_uri": "https://localhost:8080/"
        }
      },
      "execution_count": 212,
      "outputs": [
        {
          "output_type": "execute_result",
          "data": {
            "text/plain": [
              "[2, 4, 'ha']"
            ]
          },
          "metadata": {},
          "execution_count": 212
        }
      ]
    },
    {
      "cell_type": "code",
      "source": [
        "list_x1.pop() #ลบคำว่า ha ออก\n",
        "print(list_x1) #ผลรันออกมาก็ตะได้แค่ 2 กับ 4"
      ],
      "metadata": {
        "id": "qhZALc9rTy7Z",
        "outputId": "ffbceda3-3f73-4e45-8643-b5b0ff1174d2",
        "colab": {
          "base_uri": "https://localhost:8080/"
        }
      },
      "execution_count": 213,
      "outputs": [
        {
          "output_type": "stream",
          "name": "stdout",
          "text": [
            "[2, 4]\n"
          ]
        }
      ]
    },
    {
      "cell_type": "markdown",
      "source": [
        "### ```len()``` ตรวจสอบจำนวนสมาชิกของ list"
      ],
      "metadata": {
        "id": "3kM8BEiMCOwb"
      }
    },
    {
      "cell_type": "code",
      "source": [
        "print(list_b) #ปริ้นค่าที่อยู่ใน list_b ออกมา\n",
        "print(len(list_b)) #ปริ้นจำนวนใน list_b ออกมา"
      ],
      "metadata": {
        "colab": {
          "base_uri": "https://localhost:8080/"
        },
        "id": "3Rb_bVzCBwce",
        "outputId": "2b40db9b-7b5e-4778-c3a0-b76663ee9565"
      },
      "execution_count": 214,
      "outputs": [
        {
          "output_type": "stream",
          "name": "stdout",
          "text": [
            "['ab', 2, 3.14, [1, 2, 3, 4, 5, 6]]\n",
            "4\n"
          ]
        }
      ]
    },
    {
      "cell_type": "code",
      "source": [
        "len(list_a) #ปริ้นจำนวนใน list_a ออกมา"
      ],
      "metadata": {
        "colab": {
          "base_uri": "https://localhost:8080/"
        },
        "id": "f17_6FGfCcK-",
        "outputId": "024b9bc0-c7da-48d9-e5aa-8182a60034e9"
      },
      "execution_count": 215,
      "outputs": [
        {
          "output_type": "execute_result",
          "data": {
            "text/plain": [
              "6"
            ]
          },
          "metadata": {},
          "execution_count": 215
        }
      ]
    },
    {
      "cell_type": "markdown",
      "source": [
        "### String is a list of charactesrs"
      ],
      "metadata": {
        "id": "fKUb4D6yCjTN"
      }
    },
    {
      "cell_type": "code",
      "source": [
        "st_stat = 'Department od Statistics, Faclty od Science ' #เก็บข้อมูลไว้ใน st_stat"
      ],
      "metadata": {
        "id": "5GgWmqJlCgh8"
      },
      "execution_count": 216,
      "outputs": []
    },
    {
      "cell_type": "code",
      "source": [
        "st_stat[10] #ดูตัวที่ 10"
      ],
      "metadata": {
        "colab": {
          "base_uri": "https://localhost:8080/",
          "height": 0
        },
        "id": "_pW-gXaEDCu8",
        "outputId": "bfa90a39-6f9b-4f2b-c2b5-9008b7776903"
      },
      "execution_count": 217,
      "outputs": [
        {
          "output_type": "execute_result",
          "data": {
            "application/vnd.google.colaboratory.intrinsic+json": {
              "type": "string"
            },
            "text/plain": [
              "' '"
            ]
          },
          "metadata": {},
          "execution_count": 217
        }
      ]
    },
    {
      "cell_type": "code",
      "source": [
        "len(st_stat) #ดูว่ามีความยาวเท่าไหร่"
      ],
      "metadata": {
        "colab": {
          "base_uri": "https://localhost:8080/"
        },
        "id": "EG4Wumc9DFn0",
        "outputId": "8dec8a3e-79f0-40be-cf0e-22943bedef58"
      },
      "execution_count": 218,
      "outputs": [
        {
          "output_type": "execute_result",
          "data": {
            "text/plain": [
              "44"
            ]
          },
          "metadata": {},
          "execution_count": 218
        }
      ]
    },
    {
      "cell_type": "markdown",
      "source": [
        "### List Slicing การเฉือน list ```:```"
      ],
      "metadata": {
        "id": "ERPDXYqBDYB_"
      }
    },
    {
      "cell_type": "markdown",
      "source": [
        " ``` list [จุดเริ่มต้น(ทึบ) : จุดสุดท้าย (โปร่ง)] ```\n",
        "\n",
        " ``` list [ จุดเริ่มต้น (ทึบ) : จุดสุดท้าย (โปร่ง) : step)] ```"
      ],
      "metadata": {
        "id": "WyPBJ-WEEU-c"
      }
    },
    {
      "cell_type": "markdown",
      "source": [
        "ใส่รูป"
      ],
      "metadata": {
        "id": "ie6anlPeFFFs"
      }
    },
    {
      "cell_type": "code",
      "source": [
        "list_a #แสดงค่า list_a"
      ],
      "metadata": {
        "colab": {
          "base_uri": "https://localhost:8080/"
        },
        "id": "-uCkFas8DPBE",
        "outputId": "ed6bed15-2d09-4759-b5ef-578cc4135e88"
      },
      "execution_count": 219,
      "outputs": [
        {
          "output_type": "execute_result",
          "data": {
            "text/plain": [
              "[1, 2, 3, 4, 5, 6]"
            ]
          },
          "metadata": {},
          "execution_count": 219
        }
      ]
    },
    {
      "cell_type": "code",
      "source": [
        "list_a[2] #แสดงค่าตัวที่ 2 ใน list คือ 3 "
      ],
      "metadata": {
        "colab": {
          "base_uri": "https://localhost:8080/"
        },
        "id": "L_Shff7MDxs2",
        "outputId": "0439a3fa-0af2-485b-9129-7682583f7fe6"
      },
      "execution_count": 220,
      "outputs": [
        {
          "output_type": "execute_result",
          "data": {
            "text/plain": [
              "3"
            ]
          },
          "metadata": {},
          "execution_count": 220
        }
      ]
    },
    {
      "cell_type": "code",
      "source": [
        "list_a[-3:]  # : เรียกว่า Colon #เอา 3 ตัวสรุดท้ายจากด้านหลัง เพราะมี - "
      ],
      "metadata": {
        "colab": {
          "base_uri": "https://localhost:8080/"
        },
        "id": "frgbXM4tD36U",
        "outputId": "d773b156-dfec-48e0-83a7-3a556947c11f"
      },
      "execution_count": 221,
      "outputs": [
        {
          "output_type": "execute_result",
          "data": {
            "text/plain": [
              "[4, 5, 6]"
            ]
          },
          "metadata": {},
          "execution_count": 221
        }
      ]
    },
    {
      "cell_type": "code",
      "source": [
        "list_a[1:4] #เริ่มต้นตัวที่ 1 นับไปถึงตัวที่ 4 แต่ไม่เอาตัวที่ 4 เอาแค่ตัวที่ 3 พอ #หลัง colon ไม่ใส่ละไว้ในฐานที่เข้าใจ"
      ],
      "metadata": {
        "colab": {
          "base_uri": "https://localhost:8080/"
        },
        "id": "SkEmHHM3EPFa",
        "outputId": "b8a1e33c-ee45-47f4-f379-7536ebe7da91"
      },
      "execution_count": 222,
      "outputs": [
        {
          "output_type": "execute_result",
          "data": {
            "text/plain": [
              "[2, 3, 4]"
            ]
          },
          "metadata": {},
          "execution_count": 222
        }
      ]
    },
    {
      "cell_type": "code",
      "source": [
        "list_a[:4] #เอาคั้งแต่ตัวที่ 0 ถึงตัวที่ 3 "
      ],
      "metadata": {
        "colab": {
          "base_uri": "https://localhost:8080/"
        },
        "id": "VdAm2CKQGToR",
        "outputId": "dcdfc3c9-cbd4-4f39-9fd3-83fb86543507"
      },
      "execution_count": 223,
      "outputs": [
        {
          "output_type": "execute_result",
          "data": {
            "text/plain": [
              "[1, 2, 3, 4]"
            ]
          },
          "metadata": {},
          "execution_count": 223
        }
      ]
    },
    {
      "cell_type": "code",
      "source": [
        "list_a[:] #เอาทุกตัว"
      ],
      "metadata": {
        "colab": {
          "base_uri": "https://localhost:8080/"
        },
        "id": "0LSkd8YOGVV5",
        "outputId": "45499475-591b-490c-8a1a-0e694d64de3a"
      },
      "execution_count": 224,
      "outputs": [
        {
          "output_type": "execute_result",
          "data": {
            "text/plain": [
              "[1, 2, 3, 4, 5, 6]"
            ]
          },
          "metadata": {},
          "execution_count": 224
        }
      ]
    },
    {
      "cell_type": "markdown",
      "source": [
        "### Step "
      ],
      "metadata": {
        "id": "rhmMcMyfGwLN"
      }
    },
    {
      "cell_type": "code",
      "source": [
        "list_c = [1,2,3,4,5,6,7,8,9,10,11,12,13,] #เก็บค่าไว้ในตัวแปร list_c"
      ],
      "metadata": {
        "id": "omR3-CbTGjnn"
      },
      "execution_count": 225,
      "outputs": []
    },
    {
      "cell_type": "code",
      "source": [
        "list_c[:10:] #เอา 10 ตัวแรก"
      ],
      "metadata": {
        "colab": {
          "base_uri": "https://localhost:8080/"
        },
        "id": "4w3MTLuTG_Gj",
        "outputId": "2c52669d-b9e9-4fe5-b674-6c62110be03d"
      },
      "execution_count": 226,
      "outputs": [
        {
          "output_type": "execute_result",
          "data": {
            "text/plain": [
              "[1, 2, 3, 4, 5, 6, 7, 8, 9, 10]"
            ]
          },
          "metadata": {},
          "execution_count": 226
        }
      ]
    },
    {
      "cell_type": "code",
      "source": [
        "list_c[:10:2] #กระโดนทีละ 2 ขั้น"
      ],
      "metadata": {
        "colab": {
          "base_uri": "https://localhost:8080/"
        },
        "id": "U_pN6smaHGmy",
        "outputId": "8d81b886-af8a-47e5-a4f7-266cf44c5275"
      },
      "execution_count": 227,
      "outputs": [
        {
          "output_type": "execute_result",
          "data": {
            "text/plain": [
              "[1, 3, 5, 7, 9]"
            ]
          },
          "metadata": {},
          "execution_count": 227
        }
      ]
    },
    {
      "cell_type": "code",
      "source": [
        "list_c[::-1] #วิ่งมาจากด้านหลัง "
      ],
      "metadata": {
        "colab": {
          "base_uri": "https://localhost:8080/"
        },
        "id": "oLUOeH8gHS0_",
        "outputId": "2ea42080-5282-40d1-f0ea-845402f19f66"
      },
      "execution_count": 228,
      "outputs": [
        {
          "output_type": "execute_result",
          "data": {
            "text/plain": [
              "[13, 12, 11, 10, 9, 8, 7, 6, 5, 4, 3, 2, 1]"
            ]
          },
          "metadata": {},
          "execution_count": 228
        }
      ]
    },
    {
      "cell_type": "markdown",
      "source": [
        "### ```range()```"
      ],
      "metadata": {
        "id": "3Jmzk3L6H0Rm"
      }
    },
    {
      "cell_type": "code",
      "source": [
        "range(21) #ในลักษณะ list เริ่ม 0 โปร่งค้าที่ 21 จะได้แค่ 20 ตัว #อาจจะเป็นการวนลูบก็ได้"
      ],
      "metadata": {
        "colab": {
          "base_uri": "https://localhost:8080/"
        },
        "id": "Ebr3x2RKIMBw",
        "outputId": "ac443a34-a0f4-4eae-e4e1-12952e0a7859"
      },
      "execution_count": 229,
      "outputs": [
        {
          "output_type": "execute_result",
          "data": {
            "text/plain": [
              "range(0, 21)"
            ]
          },
          "metadata": {},
          "execution_count": 229
        }
      ]
    },
    {
      "cell_type": "code",
      "source": [
        "a = list(range(21)) # เก็บตัวแปรไว้ใน a "
      ],
      "metadata": {
        "id": "qAlVA1DOHgmN"
      },
      "execution_count": 230,
      "outputs": []
    },
    {
      "cell_type": "code",
      "source": [
        "a #รับค่าออกมาดู"
      ],
      "metadata": {
        "colab": {
          "base_uri": "https://localhost:8080/"
        },
        "id": "72klgXlGIG7S",
        "outputId": "48c8c881-df8b-4d18-906d-30faa6d2b649"
      },
      "execution_count": 231,
      "outputs": [
        {
          "output_type": "execute_result",
          "data": {
            "text/plain": [
              "[0, 1, 2, 3, 4, 5, 6, 7, 8, 9, 10, 11, 12, 13, 14, 15, 16, 17, 18, 19, 20]"
            ]
          },
          "metadata": {},
          "execution_count": 231
        }
      ]
    },
    {
      "cell_type": "code",
      "source": [
        "list(range(1,21)) #รันค่าออกดู"
      ],
      "metadata": {
        "colab": {
          "base_uri": "https://localhost:8080/"
        },
        "id": "t1rtcQkdIHmN",
        "outputId": "516ee8bb-e5ed-416a-a594-eb957ff3497d"
      },
      "execution_count": 232,
      "outputs": [
        {
          "output_type": "execute_result",
          "data": {
            "text/plain": [
              "[1, 2, 3, 4, 5, 6, 7, 8, 9, 10, 11, 12, 13, 14, 15, 16, 17, 18, 19, 20]"
            ]
          },
          "metadata": {},
          "execution_count": 232
        }
      ]
    },
    {
      "cell_type": "markdown",
      "source": [
        "### การบ้านครั้งที่ 2  (เดี่ยว)   คำนวณเวลาเป็นวินาทีของเวลาต่อไปนี้โดยใช้คำสั่ง split() ช่วย (print ออกมาให้สวยงาม)\n",
        "\n",
        "- 12:30:15\n",
        "- 13:41:07\n",
        "- 09:11:50\n",
        "- 21:30:15\n",
        "- 03:10:15"
      ],
      "metadata": {
        "id": "MO4dBnEtI3ou"
      }
    },
    {
      "cell_type": "code",
      "source": [
        "#01:02:03 \n",
        "\n",
        "a = (1*60*60) + (2*60) + 3\n",
        "print(f'01:02:03 แปลงเป็นวินาทีได้ {a} วินาที')"
      ],
      "metadata": {
        "colab": {
          "base_uri": "https://localhost:8080/"
        },
        "id": "deQhla73Jhvd",
        "outputId": "dff747c9-7be0-431b-9fbe-583ad1406529"
      },
      "execution_count": 233,
      "outputs": [
        {
          "output_type": "stream",
          "name": "stdout",
          "text": [
            "01:02:03 แปลงเป็นวินาทีได้ 3723 วินาที\n"
          ]
        }
      ]
    },
    {
      "cell_type": "code",
      "source": [
        ""
      ],
      "metadata": {
        "id": "J8KmnGbpJvfu"
      },
      "execution_count": 233,
      "outputs": []
    }
  ]
}