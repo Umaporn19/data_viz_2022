{
  "nbformat": 4,
  "nbformat_minor": 0,
  "metadata": {
    "colab": {
      "name": "Data Structure.ipynb",
      "provenance": [],
      "authorship_tag": "ABX9TyPy5crFTR+u1xddYv2zffn4",
      "include_colab_link": true
    },
    "kernelspec": {
      "name": "python3",
      "display_name": "Python 3"
    },
    "language_info": {
      "name": "python"
    }
  },
  "cells": [
    {
      "cell_type": "markdown",
      "metadata": {
        "id": "view-in-github",
        "colab_type": "text"
      },
      "source": [
        "<a href=\"https://colab.research.google.com/github/Umaporn19/data_viz_2022/blob/main/Data_Structure.ipynb\" target=\"_parent\"><img src=\"https://colab.research.google.com/assets/colab-badge.svg\" alt=\"Open In Colab\"/></a>"
      ]
    },
    {
      "cell_type": "markdown",
      "source": [
        "# Data Structure (โครงสร้างข้อมูล)\n",
        "การเก็บข้อมูลหลาย ๆ ตัวไว้ด้วยกันอย่างเป็นระเบียบ"
      ],
      "metadata": {
        "id": "jl2B7xir53L7"
      }
    },
    {
      "cell_type": "markdown",
      "source": [
        "## ```List()``` \n",
        "\n",
        "- เก็บอะไรก็ได้\n",
        "- ลำดับในการเก็บ มีความสำคัญ"
      ],
      "metadata": {
        "id": "EMf3VE4z6UY6"
      }
    },
    {
      "cell_type": "code",
      "execution_count": 234,
      "metadata": {
        "id": "bDv7CjkF4u4E"
      },
      "outputs": [],
      "source": [
        "list_a = [1,2,3,4,5,6] #เก็บข้อมูลไว้ใน list_a    # [  ] มีชื่อว่า Square brackets"
      ]
    },
    {
      "cell_type": "code",
      "source": [
        "list_a #รันค่าออกมาดู"
      ],
      "metadata": {
        "colab": {
          "base_uri": "https://localhost:8080/"
        },
        "id": "xLhzh1LU6hwf",
        "outputId": "fb7703a0-f81e-47ea-e1a4-2d87f3cde65c"
      },
      "execution_count": 235,
      "outputs": [
        {
          "output_type": "execute_result",
          "data": {
            "text/plain": [
              "[1, 2, 3, 4, 5, 6]"
            ]
          },
          "metadata": {},
          "execution_count": 235
        }
      ]
    },
    {
      "cell_type": "code",
      "source": [
        "list_b = ['ab',2,3.14,list_a] #list สามารถเก็บได้ทุกชนิดได้หมเ"
      ],
      "metadata": {
        "id": "qs2WiLmz6ofZ"
      },
      "execution_count": 236,
      "outputs": []
    },
    {
      "cell_type": "code",
      "source": [
        "list_b #รันค่าออกมาดู"
      ],
      "metadata": {
        "colab": {
          "base_uri": "https://localhost:8080/"
        },
        "id": "LlbbIEhV7Dlt",
        "outputId": "449c068c-0b38-4679-849a-8ed62acf833b"
      },
      "execution_count": 237,
      "outputs": [
        {
          "output_type": "execute_result",
          "data": {
            "text/plain": [
              "['ab', 2, 3.14, [1, 2, 3, 4, 5, 6]]"
            ]
          },
          "metadata": {},
          "execution_count": 237
        }
      ]
    },
    {
      "cell_type": "code",
      "source": [
        "list_a[3] #ในคอมจะนับตัวแรกคือตัวที่ 0"
      ],
      "metadata": {
        "colab": {
          "base_uri": "https://localhost:8080/"
        },
        "id": "VWUX1iON7F3A",
        "outputId": "f06317a0-6728-4220-d56e-3e7923e9e4e5"
      },
      "execution_count": 238,
      "outputs": [
        {
          "output_type": "execute_result",
          "data": {
            "text/plain": [
              "4"
            ]
          },
          "metadata": {},
          "execution_count": 238
        }
      ]
    },
    {
      "cell_type": "markdown",
      "source": [
        "### indecing การชี้สมาชิกใน list ด้วย เลขลำดับของ list "
      ],
      "metadata": {
        "id": "19PZxbL-8MQZ"
      }
    },
    {
      "cell_type": "code",
      "source": [
        "list_b[3] #list ตัวที่ 3 ใน list b "
      ],
      "metadata": {
        "colab": {
          "base_uri": "https://localhost:8080/"
        },
        "id": "T8dGR4YG7iTp",
        "outputId": "29f33a4a-7230-4a72-d5e7-61a60eb430ba"
      },
      "execution_count": 239,
      "outputs": [
        {
          "output_type": "execute_result",
          "data": {
            "text/plain": [
              "[1, 2, 3, 4, 5, 6]"
            ]
          },
          "metadata": {},
          "execution_count": 239
        }
      ]
    },
    {
      "cell_type": "code",
      "source": [
        "list_b[3][3]  #list ตัวที่ 3 ใน list b แล้วก็ตัวที่ 3 ใน [ ] อีกที"
      ],
      "metadata": {
        "colab": {
          "base_uri": "https://localhost:8080/"
        },
        "id": "Nsmv3Dzo7iRV",
        "outputId": "066b6800-e83e-4bb9-c680-5b41a3ec26c1"
      },
      "execution_count": 240,
      "outputs": [
        {
          "output_type": "execute_result",
          "data": {
            "text/plain": [
              "4"
            ]
          },
          "metadata": {},
          "execution_count": 240
        }
      ]
    },
    {
      "cell_type": "code",
      "source": [
        "list_b[3][4]  #list ตัวที่ 3 ใน list b แล้วก็ตัวที่ 4 ใน [ ] อีกที"
      ],
      "metadata": {
        "colab": {
          "base_uri": "https://localhost:8080/"
        },
        "id": "ROXf84YJ7iPE",
        "outputId": "c2778ec0-7d4b-466c-fd53-ba757d2a3087"
      },
      "execution_count": 241,
      "outputs": [
        {
          "output_type": "execute_result",
          "data": {
            "text/plain": [
              "5"
            ]
          },
          "metadata": {},
          "execution_count": 241
        }
      ]
    },
    {
      "cell_type": "code",
      "source": [
        "list_a[6] #เรียก list ตัวที่ไม่ได้อยู่ใน [] จะเอ่อเร่อ"
      ],
      "metadata": {
        "colab": {
          "base_uri": "https://localhost:8080/",
          "height": 166
        },
        "id": "W3rqf1ra7iMj",
        "outputId": "740da339-2944-41b5-ff9a-a77e73b9b327"
      },
      "execution_count": 243,
      "outputs": [
        {
          "output_type": "error",
          "ename": "IndexError",
          "evalue": "ignored",
          "traceback": [
            "\u001b[0;31m---------------------------------------------------------------------------\u001b[0m",
            "\u001b[0;31mIndexError\u001b[0m                                Traceback (most recent call last)",
            "\u001b[0;32m<ipython-input-243-cbb255fd68c2>\u001b[0m in \u001b[0;36m<module>\u001b[0;34m()\u001b[0m\n\u001b[0;32m----> 1\u001b[0;31m \u001b[0mlist_a\u001b[0m\u001b[0;34m[\u001b[0m\u001b[0;36m6\u001b[0m\u001b[0;34m]\u001b[0m \u001b[0;31m#เรียก list ตัวที่ไม่ได้อยู่ใน [] จะเอ่อเร่อ\u001b[0m\u001b[0;34m\u001b[0m\u001b[0;34m\u001b[0m\u001b[0m\n\u001b[0m",
            "\u001b[0;31mIndexError\u001b[0m: list index out of range"
          ]
        }
      ]
    },
    {
      "cell_type": "code",
      "source": [
        "list_a[-1] #index จากตัวด้านหลังตัวสุดท้ายของ list"
      ],
      "metadata": {
        "colab": {
          "base_uri": "https://localhost:8080/"
        },
        "id": "fBREQ49u7iJ5",
        "outputId": "17a4193a-aedd-41ec-e714-87a5c92994fd"
      },
      "execution_count": 244,
      "outputs": [
        {
          "output_type": "execute_result",
          "data": {
            "text/plain": [
              "6"
            ]
          },
          "metadata": {},
          "execution_count": 244
        }
      ]
    },
    {
      "cell_type": "code",
      "source": [
        "list_a[-4] #index นับจากหลังมาหน้าตัวที่ 4"
      ],
      "metadata": {
        "colab": {
          "base_uri": "https://localhost:8080/"
        },
        "id": "bRjb_fEq7iHh",
        "outputId": "a8937b33-a507-4c58-abdb-8927c5c9adf0"
      },
      "execution_count": 245,
      "outputs": [
        {
          "output_type": "execute_result",
          "data": {
            "text/plain": [
              "3"
            ]
          },
          "metadata": {},
          "execution_count": 245
        }
      ]
    },
    {
      "cell_type": "markdown",
      "source": [
        "### การสร้าง ```list()``` "
      ],
      "metadata": {
        "id": "PAB-UMLP9dvJ"
      }
    },
    {
      "cell_type": "code",
      "source": [
        "list_x1 = []  #การสร้าง list แบบที่ 1 \n",
        "list_x2 = list() #การสร้าง list แบบที่ 2 "
      ],
      "metadata": {
        "id": "0DtyKhch7iCZ"
      },
      "execution_count": 246,
      "outputs": []
    },
    {
      "cell_type": "code",
      "source": [
        "print(list_x1) #print ทั้ง 2 list จะได้ list ว่าง\n",
        "print(list_x2)"
      ],
      "metadata": {
        "colab": {
          "base_uri": "https://localhost:8080/"
        },
        "id": "ZlPh3fFb9COR",
        "outputId": "c578c165-ab3e-44b2-e2a2-a40610698376"
      },
      "execution_count": 247,
      "outputs": [
        {
          "output_type": "stream",
          "name": "stdout",
          "text": [
            "[]\n",
            "[]\n"
          ]
        }
      ]
    },
    {
      "cell_type": "markdown",
      "source": [
        "### เพิ่มสมาชิกเข้าไปใน list ด้วย `append()`"
      ],
      "metadata": {
        "id": "8Hj26shu-O8M"
      }
    },
    {
      "cell_type": "code",
      "source": [
        "list_x1.append(2) #ไม่มีอะไรเกิดขึ้นแสดงว่า 2 มันต้องไปปรากฎที่ไหนสักที่หนึ่ง มันถูกแทรกเข้าไปใน list_x1 แล้ว"
      ],
      "metadata": {
        "id": "mTlmmLyHSaws"
      },
      "execution_count": 248,
      "outputs": []
    },
    {
      "cell_type": "code",
      "source": [
        "list_x1 #จะได้ผลออกมา"
      ],
      "metadata": {
        "colab": {
          "base_uri": "https://localhost:8080/"
        },
        "id": "C6GKPhWB9CJd",
        "outputId": "99e917c1-5663-4f4e-f6a0-bc235a5cc5c7"
      },
      "execution_count": 249,
      "outputs": [
        {
          "output_type": "execute_result",
          "data": {
            "text/plain": [
              "[2]"
            ]
          },
          "metadata": {},
          "execution_count": 249
        }
      ]
    },
    {
      "cell_type": "code",
      "source": [
        "list_x1.append(4) #เอา 4 มาแทนใน list_x1\n",
        "print(list_x1) #ปริ้นค่า list_x1"
      ],
      "metadata": {
        "colab": {
          "base_uri": "https://localhost:8080/"
        },
        "id": "pMkhhXJL-ufN",
        "outputId": "e23aa0d8-21da-4abb-c3d8-34dc520ee744"
      },
      "execution_count": 250,
      "outputs": [
        {
          "output_type": "stream",
          "name": "stdout",
          "text": [
            "[2, 4]\n"
          ]
        }
      ]
    },
    {
      "cell_type": "code",
      "source": [
        "list_x1[0] #ตัวที่ 0 คือเลข 2 "
      ],
      "metadata": {
        "id": "27Ad7MzdSyd2",
        "outputId": "86641f7c-f04d-4b9f-bc5a-baab06b284b3",
        "colab": {
          "base_uri": "https://localhost:8080/"
        }
      },
      "execution_count": 251,
      "outputs": [
        {
          "output_type": "execute_result",
          "data": {
            "text/plain": [
              "2"
            ]
          },
          "metadata": {},
          "execution_count": 251
        }
      ]
    },
    {
      "cell_type": "code",
      "source": [
        "list_x1[-1] #-1 คือดึงตัวให้แสดงออกมาคือตัวหลังตัวแรก"
      ],
      "metadata": {
        "id": "ZyMurH_ZS4Az",
        "outputId": "f6485675-3e30-4790-90b7-b8ba3060bfb7",
        "colab": {
          "base_uri": "https://localhost:8080/"
        }
      },
      "execution_count": 252,
      "outputs": [
        {
          "output_type": "execute_result",
          "data": {
            "text/plain": [
              "4"
            ]
          },
          "metadata": {},
          "execution_count": 252
        }
      ]
    },
    {
      "cell_type": "code",
      "source": [
        "list_x2 #จะเป็นช่องว่าง"
      ],
      "metadata": {
        "id": "dEDFEewzS6qL",
        "outputId": "b63e09b3-076d-447f-ba4a-11ca84595b6a",
        "colab": {
          "base_uri": "https://localhost:8080/"
        }
      },
      "execution_count": 253,
      "outputs": [
        {
          "output_type": "execute_result",
          "data": {
            "text/plain": [
              "[]"
            ]
          },
          "metadata": {},
          "execution_count": 253
        }
      ]
    },
    {
      "cell_type": "code",
      "source": [
        "list_x2.append('ha')  #แทนค่า ha ใน list_x2"
      ],
      "metadata": {
        "id": "Rjl-Pm4IS-sT"
      },
      "execution_count": 254,
      "outputs": []
    },
    {
      "cell_type": "code",
      "source": [
        "list_x2 #แสดงค่า list_x2 ออกมา #ที่ผลรันออกมา 2 ตัวเพราะรัน 2 ครั้ง"
      ],
      "metadata": {
        "id": "2UQxsMeuTBI4",
        "outputId": "aed01ea3-0635-4b88-f625-ac13a63a1795",
        "colab": {
          "base_uri": "https://localhost:8080/"
        }
      },
      "execution_count": 255,
      "outputs": [
        {
          "output_type": "execute_result",
          "data": {
            "text/plain": [
              "['ha']"
            ]
          },
          "metadata": {},
          "execution_count": 255
        }
      ]
    },
    {
      "cell_type": "markdown",
      "source": [
        "### ลบสมาชิกจาก list "
      ],
      "metadata": {
        "id": "SdEtryiMAO9E"
      }
    },
    {
      "cell_type": "code",
      "source": [
        "list_x1.append('ha') # ลบคำว่า ha ออกครั้งนึง"
      ],
      "metadata": {
        "id": "t49lqB7pAhdf"
      },
      "execution_count": 256,
      "outputs": []
    },
    {
      "cell_type": "code",
      "source": [
        "list_x1 #ลองแสดงค่าออกมาดู"
      ],
      "metadata": {
        "id": "2ylhyY3jTie0",
        "outputId": "7eaa7860-3f96-43fd-8b53-9bedc649a49b",
        "colab": {
          "base_uri": "https://localhost:8080/"
        }
      },
      "execution_count": 257,
      "outputs": [
        {
          "output_type": "execute_result",
          "data": {
            "text/plain": [
              "[2, 4, 'ha']"
            ]
          },
          "metadata": {},
          "execution_count": 257
        }
      ]
    },
    {
      "cell_type": "code",
      "source": [
        "list_x1.pop() #ลบค่า x1 ครั้งที่ 1"
      ],
      "metadata": {
        "id": "86OSfn4NTvR9",
        "outputId": "1ca8be64-80c6-4ebd-efee-6d3b6a084d7c",
        "colab": {
          "base_uri": "https://localhost:8080/",
          "height": 35
        }
      },
      "execution_count": 258,
      "outputs": [
        {
          "output_type": "execute_result",
          "data": {
            "application/vnd.google.colaboratory.intrinsic+json": {
              "type": "string"
            },
            "text/plain": [
              "'ha'"
            ]
          },
          "metadata": {},
          "execution_count": 258
        }
      ]
    },
    {
      "cell_type": "code",
      "source": [
        "list_x1.pop() #ลบคำว่า ha ออก\n",
        "print(list_x1) #ผลรันออกมาก็ตะได้แค่ 2 กับ 4"
      ],
      "metadata": {
        "id": "_f-WNTX9Ty9t",
        "outputId": "798a6e43-c027-4a35-9efa-d209f9fba0c7",
        "colab": {
          "base_uri": "https://localhost:8080/"
        }
      },
      "execution_count": 259,
      "outputs": [
        {
          "output_type": "execute_result",
          "data": {
            "text/plain": [
              "[2, 4]"
            ]
          },
          "metadata": {},
          "execution_count": 259
        }
      ]
    },
    {
      "cell_type": "markdown",
      "source": [
        "### ```len()``` ตรวจสอบจำนวนสมาชิกของ list"
      ],
      "metadata": {
        "id": "3kM8BEiMCOwb"
      }
    },
    {
      "cell_type": "code",
      "source": [
        "print(list_b) #ปริ้นค่าที่อยู่ใน list_b ออกมา\n",
        "print(len(list_b)) #ปริ้นจำนวนใน list_b ออกมา"
      ],
      "metadata": {
        "colab": {
          "base_uri": "https://localhost:8080/"
        },
        "id": "3Rb_bVzCBwce",
        "outputId": "2473e499-7d83-4553-dbad-61095027399a"
      },
      "execution_count": 261,
      "outputs": [
        {
          "output_type": "stream",
          "name": "stdout",
          "text": [
            "['ab', 2, 3.14, [1, 2, 3, 4, 5, 6]]\n",
            "4\n"
          ]
        }
      ]
    },
    {
      "cell_type": "code",
      "source": [
        "len(list_a) #ปริ้นจำนวนใน list_a ออกมา"
      ],
      "metadata": {
        "colab": {
          "base_uri": "https://localhost:8080/"
        },
        "id": "f17_6FGfCcK-",
        "outputId": "7557eccf-b1df-40f6-d1cd-709ab0eb6f2e"
      },
      "execution_count": 262,
      "outputs": [
        {
          "output_type": "execute_result",
          "data": {
            "text/plain": [
              "6"
            ]
          },
          "metadata": {},
          "execution_count": 262
        }
      ]
    },
    {
      "cell_type": "markdown",
      "source": [
        "### String is a list of charactesrs"
      ],
      "metadata": {
        "id": "fKUb4D6yCjTN"
      }
    },
    {
      "cell_type": "code",
      "source": [
        "st_stat = 'Department od Statistics, Faclty od Science ' #เก็บข้อมูลไว้ใน st_stat"
      ],
      "metadata": {
        "id": "5GgWmqJlCgh8"
      },
      "execution_count": 263,
      "outputs": []
    },
    {
      "cell_type": "code",
      "source": [
        "st_stat[10] #ดูตัวที่ 10"
      ],
      "metadata": {
        "colab": {
          "base_uri": "https://localhost:8080/",
          "height": 35
        },
        "id": "_pW-gXaEDCu8",
        "outputId": "57c9503f-d496-4342-8074-09588c0328fe"
      },
      "execution_count": 264,
      "outputs": [
        {
          "output_type": "execute_result",
          "data": {
            "application/vnd.google.colaboratory.intrinsic+json": {
              "type": "string"
            },
            "text/plain": [
              "' '"
            ]
          },
          "metadata": {},
          "execution_count": 264
        }
      ]
    },
    {
      "cell_type": "code",
      "source": [
        "len(st_stat) #ดูว่ามีความยาวเท่าไหร่"
      ],
      "metadata": {
        "colab": {
          "base_uri": "https://localhost:8080/"
        },
        "id": "EG4Wumc9DFn0",
        "outputId": "95868713-81dc-4592-fc06-6b8a568f136c"
      },
      "execution_count": 265,
      "outputs": [
        {
          "output_type": "execute_result",
          "data": {
            "text/plain": [
              "44"
            ]
          },
          "metadata": {},
          "execution_count": 265
        }
      ]
    },
    {
      "cell_type": "markdown",
      "source": [
        "### List Slicing การเฉือน list ```:```"
      ],
      "metadata": {
        "id": "ERPDXYqBDYB_"
      }
    },
    {
      "cell_type": "markdown",
      "source": [
        " ``` list [จุดเริ่มต้น(ทึบ) : จุดสุดท้าย (โปร่ง)] ```\n",
        "\n",
        " ``` list [ จุดเริ่มต้น (ทึบ) : จุดสุดท้าย (โปร่ง) : step)] ```"
      ],
      "metadata": {
        "id": "WyPBJ-WEEU-c"
      }
    },
    {
      "cell_type": "markdown",
      "source": [
        "ใส่รูป"
      ],
      "metadata": {
        "id": "ie6anlPeFFFs"
      }
    },
    {
      "cell_type": "code",
      "source": [
        "list_a #แสดงค่า list_a"
      ],
      "metadata": {
        "colab": {
          "base_uri": "https://localhost:8080/"
        },
        "id": "-uCkFas8DPBE",
        "outputId": "f62c1263-c9ee-49ae-e635-66a2a3f871c5"
      },
      "execution_count": 266,
      "outputs": [
        {
          "output_type": "execute_result",
          "data": {
            "text/plain": [
              "[1, 2, 3, 4, 5, 6]"
            ]
          },
          "metadata": {},
          "execution_count": 266
        }
      ]
    },
    {
      "cell_type": "code",
      "source": [
        "list_a[2] #แสดงค่าตัวที่ 2 ใน list คือ 3 "
      ],
      "metadata": {
        "colab": {
          "base_uri": "https://localhost:8080/"
        },
        "id": "L_Shff7MDxs2",
        "outputId": "af80a3ec-c722-44be-9882-97e21a14b0bf"
      },
      "execution_count": 267,
      "outputs": [
        {
          "output_type": "execute_result",
          "data": {
            "text/plain": [
              "3"
            ]
          },
          "metadata": {},
          "execution_count": 267
        }
      ]
    },
    {
      "cell_type": "code",
      "source": [
        "list_a[-3:]  # : เรียกว่า Colon #เอา 3 ตัวสรุดท้ายจากด้านหลัง เพราะมี - "
      ],
      "metadata": {
        "colab": {
          "base_uri": "https://localhost:8080/"
        },
        "id": "frgbXM4tD36U",
        "outputId": "bda78f20-305a-4bad-a354-aa933afc78e4"
      },
      "execution_count": 268,
      "outputs": [
        {
          "output_type": "execute_result",
          "data": {
            "text/plain": [
              "[4, 5, 6]"
            ]
          },
          "metadata": {},
          "execution_count": 268
        }
      ]
    },
    {
      "cell_type": "code",
      "source": [
        "list_a[1:4] #เริ่มต้นตัวที่ 1 นับไปถึงตัวที่ 4 แต่ไม่เอาตัวที่ 4 เอาแค่ตัวที่ 3 พอ #หลัง colon ไม่ใส่ละไว้ในฐานที่เข้าใจ"
      ],
      "metadata": {
        "colab": {
          "base_uri": "https://localhost:8080/"
        },
        "id": "SkEmHHM3EPFa",
        "outputId": "97dc2035-6a82-4d2a-a1ee-472d10135e26"
      },
      "execution_count": 269,
      "outputs": [
        {
          "output_type": "execute_result",
          "data": {
            "text/plain": [
              "[2, 3, 4]"
            ]
          },
          "metadata": {},
          "execution_count": 269
        }
      ]
    },
    {
      "cell_type": "code",
      "source": [
        "list_a[:4] #เอาคั้งแต่ตัวที่ 0 ถึงตัวที่ 3 "
      ],
      "metadata": {
        "colab": {
          "base_uri": "https://localhost:8080/"
        },
        "id": "VdAm2CKQGToR",
        "outputId": "32933661-6cb6-4def-d1f1-be46f611d967"
      },
      "execution_count": 270,
      "outputs": [
        {
          "output_type": "execute_result",
          "data": {
            "text/plain": [
              "[1, 2, 3, 4]"
            ]
          },
          "metadata": {},
          "execution_count": 270
        }
      ]
    },
    {
      "cell_type": "code",
      "source": [
        "list_a[:] #เอาทุกตัว"
      ],
      "metadata": {
        "colab": {
          "base_uri": "https://localhost:8080/"
        },
        "id": "0LSkd8YOGVV5",
        "outputId": "311c9924-6c9b-4e8b-9fa7-d60540a97964"
      },
      "execution_count": 271,
      "outputs": [
        {
          "output_type": "execute_result",
          "data": {
            "text/plain": [
              "[1, 2, 3, 4, 5, 6]"
            ]
          },
          "metadata": {},
          "execution_count": 271
        }
      ]
    },
    {
      "cell_type": "markdown",
      "source": [
        "### Step "
      ],
      "metadata": {
        "id": "rhmMcMyfGwLN"
      }
    },
    {
      "cell_type": "code",
      "source": [
        "list_c = [1,2,3,4,5,6,7,8,9,10,11,12,13,] #เก็บค่าไว้ในตัวแปร list_c"
      ],
      "metadata": {
        "id": "omR3-CbTGjnn"
      },
      "execution_count": 272,
      "outputs": []
    },
    {
      "cell_type": "code",
      "source": [
        "list_c[:10:] #เอา 10 ตัวแรก"
      ],
      "metadata": {
        "colab": {
          "base_uri": "https://localhost:8080/"
        },
        "id": "4w3MTLuTG_Gj",
        "outputId": "a0ad87a3-2df5-4616-e95b-decbd8582c4c"
      },
      "execution_count": 273,
      "outputs": [
        {
          "output_type": "execute_result",
          "data": {
            "text/plain": [
              "[1, 2, 3, 4, 5, 6, 7, 8, 9, 10]"
            ]
          },
          "metadata": {},
          "execution_count": 273
        }
      ]
    },
    {
      "cell_type": "code",
      "source": [
        "list_c[:10:2] #กระโดนทีละ 2 ขั้น"
      ],
      "metadata": {
        "colab": {
          "base_uri": "https://localhost:8080/"
        },
        "id": "U_pN6smaHGmy",
        "outputId": "042df336-c6a4-4e9b-d873-dc9d460a62f4"
      },
      "execution_count": 274,
      "outputs": [
        {
          "output_type": "execute_result",
          "data": {
            "text/plain": [
              "[1, 3, 5, 7, 9]"
            ]
          },
          "metadata": {},
          "execution_count": 274
        }
      ]
    },
    {
      "cell_type": "code",
      "source": [
        "list_c[::-1] #วิ่งมาจากด้านหลัง "
      ],
      "metadata": {
        "colab": {
          "base_uri": "https://localhost:8080/"
        },
        "id": "oLUOeH8gHS0_",
        "outputId": "4e1c6f6e-a1f7-4462-9b4d-ca34282903b0"
      },
      "execution_count": 275,
      "outputs": [
        {
          "output_type": "execute_result",
          "data": {
            "text/plain": [
              "[13, 12, 11, 10, 9, 8, 7, 6, 5, 4, 3, 2, 1]"
            ]
          },
          "metadata": {},
          "execution_count": 275
        }
      ]
    },
    {
      "cell_type": "markdown",
      "source": [
        "### ```range()```"
      ],
      "metadata": {
        "id": "3Jmzk3L6H0Rm"
      }
    },
    {
      "cell_type": "code",
      "source": [
        "range(21) #ในลักษณะ list เริ่ม 0 โปร่งค้าที่ 21 จะได้แค่ 20 ตัว #อาจจะเป็นการวนลูบก็ได้"
      ],
      "metadata": {
        "colab": {
          "base_uri": "https://localhost:8080/"
        },
        "id": "Ebr3x2RKIMBw",
        "outputId": "247b0cfd-2bc2-4df0-c0b6-a1ad9641d375"
      },
      "execution_count": 276,
      "outputs": [
        {
          "output_type": "execute_result",
          "data": {
            "text/plain": [
              "range(0, 21)"
            ]
          },
          "metadata": {},
          "execution_count": 276
        }
      ]
    },
    {
      "cell_type": "code",
      "source": [
        "a = list(range(21)) # เก็บตัวแปรไว้ใน a "
      ],
      "metadata": {
        "id": "qAlVA1DOHgmN"
      },
      "execution_count": 277,
      "outputs": []
    },
    {
      "cell_type": "code",
      "source": [
        "a #รับค่าออกมาดู"
      ],
      "metadata": {
        "colab": {
          "base_uri": "https://localhost:8080/"
        },
        "id": "72klgXlGIG7S",
        "outputId": "519f68c2-dd27-45f8-d07c-5128f1b7b7bc"
      },
      "execution_count": 278,
      "outputs": [
        {
          "output_type": "execute_result",
          "data": {
            "text/plain": [
              "[0, 1, 2, 3, 4, 5, 6, 7, 8, 9, 10, 11, 12, 13, 14, 15, 16, 17, 18, 19, 20]"
            ]
          },
          "metadata": {},
          "execution_count": 278
        }
      ]
    },
    {
      "cell_type": "code",
      "source": [
        "list(range(1,21)) #รันค่าออกดู"
      ],
      "metadata": {
        "colab": {
          "base_uri": "https://localhost:8080/"
        },
        "id": "t1rtcQkdIHmN",
        "outputId": "97b170fd-d6bc-4931-e57a-6f38ead6fc8b"
      },
      "execution_count": 279,
      "outputs": [
        {
          "output_type": "execute_result",
          "data": {
            "text/plain": [
              "[1, 2, 3, 4, 5, 6, 7, 8, 9, 10, 11, 12, 13, 14, 15, 16, 17, 18, 19, 20]"
            ]
          },
          "metadata": {},
          "execution_count": 279
        }
      ]
    },
    {
      "cell_type": "markdown",
      "source": [
        "### การบ้านครั้งที่ 2  (เดี่ยว)   คำนวณเวลาเป็นวินาทีของเวลาต่อไปนี้โดยใช้คำสั่ง split() ช่วย (print ออกมาให้สวยงาม)\n",
        "\n",
        "- 12:30:15\n",
        "- 13:41:07\n",
        "- 09:11:50\n",
        "- 21:30:15\n",
        "- 03:10:15"
      ],
      "metadata": {
        "id": "MO4dBnEtI3ou"
      }
    },
    {
      "cell_type": "code",
      "source": [
        "#01:02:03 \n",
        "\n",
        "a = (1*60*60) + (2*60) + 3\n",
        "print(f'01:02:03 แปลงเป็นวินาทีได้ {a} วินาที')"
      ],
      "metadata": {
        "colab": {
          "base_uri": "https://localhost:8080/"
        },
        "id": "deQhla73Jhvd",
        "outputId": "4b6506df-b665-4465-e880-cb49e3796866"
      },
      "execution_count": 280,
      "outputs": [
        {
          "output_type": "stream",
          "name": "stdout",
          "text": [
            "01:02:03 แปลงเป็นวินาทีได้ 3723 วินาที\n"
          ]
        }
      ]
    },
    {
      "cell_type": "markdown",
      "source": [
        "### ข้อที่ 1 --> 12:30:15"
      ],
      "metadata": {
        "id": "nuYeewjcVbPI"
      }
    },
    {
      "cell_type": "code",
      "source": [
        "nueng = (12*60*60) + (30*60) + 15\n",
        "print(f'12 นาฬิกา 2 นาที กับอีก 3 วินาที สามารถแปลงเป็นวินาทีได้เท่ากับ -->  {nueng} วินาที')"
      ],
      "metadata": {
        "id": "J8KmnGbpJvfu",
        "outputId": "aecf0c7f-03fa-400a-db37-849ae32e54cd",
        "colab": {
          "base_uri": "https://localhost:8080/"
        }
      },
      "execution_count": 290,
      "outputs": [
        {
          "output_type": "stream",
          "name": "stdout",
          "text": [
            "12 นาฬิกา 2 นาที กับอีก 3 วินาที สามารถแปลงเป็นวินาทีได้เท่ากับ -->  45015 วินาที\n"
          ]
        }
      ]
    },
    {
      "cell_type": "markdown",
      "source": [
        "### ข้อที่ 2 --> 13:41:07"
      ],
      "metadata": {
        "id": "DZ6KlimRYE1N"
      }
    },
    {
      "cell_type": "code",
      "source": [
        "song = (13*60*60) + (41*60) + 7\n",
        "print(f'13 นาฬิกา 41 นาที กับอีก 7 วินาที สามารถแปลงเป็นวินาทีได้เท่ากับ -->  {song} วินาที')"
      ],
      "metadata": {
        "id": "04vNIg4bYLOV",
        "outputId": "99b158fd-e52a-40af-d118-dd839741a248",
        "colab": {
          "base_uri": "https://localhost:8080/"
        }
      },
      "execution_count": 289,
      "outputs": [
        {
          "output_type": "stream",
          "name": "stdout",
          "text": [
            "13 นาฬิกา 41 นาที กับอีก 7 วินาที สามารถแปลงเป็นวินาทีได้เท่ากับ -->  49267 วินาที\n"
          ]
        }
      ]
    },
    {
      "cell_type": "markdown",
      "source": [
        "### ข้อที่ 3 --> 09:11:50"
      ],
      "metadata": {
        "id": "93O8a3bJYlMt"
      }
    },
    {
      "cell_type": "code",
      "source": [
        "sam = (9*60*60) + (11*60) + 50\n",
        "print(f'9 นาฬิกา 11 นาที กับอีก 50 วินาที สามารถแปลงเป็นวินาทีได้เท่ากับ -->  {sam} วินาที')"
      ],
      "metadata": {
        "id": "o0Wj1TQhYrDU",
        "outputId": "f6c0c462-ed20-458a-f500-4e02eb2bc4e0",
        "colab": {
          "base_uri": "https://localhost:8080/"
        }
      },
      "execution_count": 291,
      "outputs": [
        {
          "output_type": "stream",
          "name": "stdout",
          "text": [
            "9 นาฬิกา 11 นาที กับอีก 50 วินาที สามารถแปลงเป็นวินาทีได้เท่ากับ -->  33110 วินาที\n"
          ]
        }
      ]
    },
    {
      "cell_type": "markdown",
      "source": [
        "### ข้อที่ 4 --> 21:30:15"
      ],
      "metadata": {
        "id": "42xARopRY23-"
      }
    },
    {
      "cell_type": "code",
      "source": [
        "see = (21*60*60) + (30*60) + 15\n",
        "print(f'21 นาฬิกา 30 นาที กับอีก 15 วินาที สามารถแปลงเป็นวินาทีได้เท่ากับ -->  {see} วินาที')"
      ],
      "metadata": {
        "id": "txn-c_HqY7wo",
        "outputId": "42d7d543-e7fd-401b-f8f7-062934b8ea39",
        "colab": {
          "base_uri": "https://localhost:8080/"
        }
      },
      "execution_count": 292,
      "outputs": [
        {
          "output_type": "stream",
          "name": "stdout",
          "text": [
            "21 นาฬิกา 30 นาที กับอีก 15 วินาที สามารถแปลงเป็นวินาทีได้เท่ากับ -->  77415 วินาที\n"
          ]
        }
      ]
    },
    {
      "cell_type": "markdown",
      "source": [
        "### ข้อที่ 5 --> 03:10:15"
      ],
      "metadata": {
        "id": "I4ziL2GnZYbg"
      }
    },
    {
      "cell_type": "code",
      "source": [
        "ha = (3*60*60) + (10*60) + 15\n",
        "print(f' 3 นาฬิกา 10 นาที กับอีก 15 วินาที สามารถแปลงเป็นวินาทีได้เท่ากับ -->  {ha} วินาที')"
      ],
      "metadata": {
        "id": "aikdVphrZdmL",
        "outputId": "81538c72-23cb-4882-e333-b9934f8ea694",
        "colab": {
          "base_uri": "https://localhost:8080/"
        }
      },
      "execution_count": 293,
      "outputs": [
        {
          "output_type": "stream",
          "name": "stdout",
          "text": [
            " 3 นาฬิกา 10 นาที กับอีก 15 วินาที สามารถแปลงเป็นวินาทีได้เท่ากับ -->  11415 วินาที\n"
          ]
        }
      ]
    }
  ]
}