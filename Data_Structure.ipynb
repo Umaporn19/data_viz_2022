{
  "nbformat": 4,
  "nbformat_minor": 0,
  "metadata": {
    "colab": {
      "name": "Data Structure.ipynb",
      "provenance": [],
      "authorship_tag": "ABX9TyO1nUNIUO7pIpXpyNY1UaTd",
      "include_colab_link": true
    },
    "kernelspec": {
      "name": "python3",
      "display_name": "Python 3"
    },
    "language_info": {
      "name": "python"
    }
  },
  "cells": [
    {
      "cell_type": "markdown",
      "metadata": {
        "id": "view-in-github",
        "colab_type": "text"
      },
      "source": [
        "<a href=\"https://colab.research.google.com/github/Umaporn19/data_viz_2022/blob/main/Data_Structure.ipynb\" target=\"_parent\"><img src=\"https://colab.research.google.com/assets/colab-badge.svg\" alt=\"Open In Colab\"/></a>"
      ]
    },
    {
      "cell_type": "markdown",
      "source": [
        "# Data Structure (โครงสร้างข้อมูล)\n",
        "การเก็บข้อมูลหลาย ๆ ตัวไว้ด้วยกันอย่างเป็นระเบียบ"
      ],
      "metadata": {
        "id": "jl2B7xir53L7"
      }
    },
    {
      "cell_type": "markdown",
      "source": [
        "## ```List()``` \n",
        "\n",
        "- เก็บอะไรก็ได้\n",
        "- ลำดับในการเก็บ มีความสำคัญ"
      ],
      "metadata": {
        "id": "EMf3VE4z6UY6"
      }
    },
    {
      "cell_type": "code",
      "execution_count": null,
      "metadata": {
        "id": "bDv7CjkF4u4E"
      },
      "outputs": [],
      "source": [
        "list_a = [1,2,3,4,5,6] #เก็บข้อมูลไว้ใน list_a    # [  ] มีชื่อว่า Square brackets"
      ]
    },
    {
      "cell_type": "code",
      "source": [
        "list_a #รันค่าออกมาดู"
      ],
      "metadata": {
        "colab": {
          "base_uri": "https://localhost:8080/"
        },
        "id": "xLhzh1LU6hwf",
        "outputId": "2033fb96-f5b8-403c-83c2-5e9b1c78b888"
      },
      "execution_count": null,
      "outputs": [
        {
          "output_type": "execute_result",
          "data": {
            "text/plain": [
              "[1, 2, 3, 4, 5, 6]"
            ]
          },
          "metadata": {},
          "execution_count": 4
        }
      ]
    },
    {
      "cell_type": "code",
      "source": [
        "list_b = ['ab',2,3.14,list_a] #list สามารถเก็บได้ทุกชนิดได้หมเ"
      ],
      "metadata": {
        "id": "qs2WiLmz6ofZ"
      },
      "execution_count": null,
      "outputs": []
    },
    {
      "cell_type": "code",
      "source": [
        "list_b #รันค่าออกมาดู"
      ],
      "metadata": {
        "colab": {
          "base_uri": "https://localhost:8080/"
        },
        "id": "LlbbIEhV7Dlt",
        "outputId": "ce0b99bf-78c1-4b6c-ddda-9f0cd3bf91b0"
      },
      "execution_count": null,
      "outputs": [
        {
          "output_type": "execute_result",
          "data": {
            "text/plain": [
              "['ab', 2, 3.14, [1, 2, 3, 4, 5, 6]]"
            ]
          },
          "metadata": {},
          "execution_count": 9
        }
      ]
    },
    {
      "cell_type": "code",
      "source": [
        "list_a[3] #ในคอมจะนับตัวแรกคือตัวที่ 0"
      ],
      "metadata": {
        "colab": {
          "base_uri": "https://localhost:8080/"
        },
        "id": "VWUX1iON7F3A",
        "outputId": "07b6d389-b6f0-496a-f80b-356f03b98731"
      },
      "execution_count": null,
      "outputs": [
        {
          "output_type": "execute_result",
          "data": {
            "text/plain": [
              "4"
            ]
          },
          "metadata": {},
          "execution_count": 10
        }
      ]
    },
    {
      "cell_type": "markdown",
      "source": [
        "### indecing การชี้สมาชิกใน list ด้วย เลขลำดับของ list "
      ],
      "metadata": {
        "id": "19PZxbL-8MQZ"
      }
    },
    {
      "cell_type": "code",
      "source": [
        "list_b[3] #list ตัวที่ 3 ใน list b "
      ],
      "metadata": {
        "colab": {
          "base_uri": "https://localhost:8080/"
        },
        "id": "T8dGR4YG7iTp",
        "outputId": "2ead9057-1f42-4875-f3a5-401820ff1f94"
      },
      "execution_count": null,
      "outputs": [
        {
          "output_type": "execute_result",
          "data": {
            "text/plain": [
              "[1, 2, 3, 4, 5, 6]"
            ]
          },
          "metadata": {},
          "execution_count": 12
        }
      ]
    },
    {
      "cell_type": "code",
      "source": [
        "list_b[3][3]  #list ตัวที่ 3 ใน list b แล้วก็ตัวที่ 3 ใน [ ] อีกที"
      ],
      "metadata": {
        "colab": {
          "base_uri": "https://localhost:8080/"
        },
        "id": "Nsmv3Dzo7iRV",
        "outputId": "9407c74f-4ad1-43a3-be50-a64164655582"
      },
      "execution_count": null,
      "outputs": [
        {
          "output_type": "execute_result",
          "data": {
            "text/plain": [
              "4"
            ]
          },
          "metadata": {},
          "execution_count": 13
        }
      ]
    },
    {
      "cell_type": "code",
      "source": [
        "list_b[3][4]  #list ตัวที่ 3 ใน list b แล้วก็ตัวที่ 4 ใน [ ] อีกที"
      ],
      "metadata": {
        "colab": {
          "base_uri": "https://localhost:8080/"
        },
        "id": "ROXf84YJ7iPE",
        "outputId": "8af8abae-b619-4f4e-b7f7-c1e563911213"
      },
      "execution_count": null,
      "outputs": [
        {
          "output_type": "execute_result",
          "data": {
            "text/plain": [
              "5"
            ]
          },
          "metadata": {},
          "execution_count": 16
        }
      ]
    },
    {
      "cell_type": "code",
      "source": [
        "list_a[6] #เรียก list ตัวที่ไม่ได้อยู่ใน [] จะเอ่อเร่อ"
      ],
      "metadata": {
        "colab": {
          "base_uri": "https://localhost:8080/",
          "height": 166
        },
        "id": "W3rqf1ra7iMj",
        "outputId": "59428535-66bf-4ee5-9feb-6a4e4327b6aa"
      },
      "execution_count": null,
      "outputs": [
        {
          "output_type": "error",
          "ename": "IndexError",
          "evalue": "ignored",
          "traceback": [
            "\u001b[0;31m---------------------------------------------------------------------------\u001b[0m",
            "\u001b[0;31mIndexError\u001b[0m                                Traceback (most recent call last)",
            "\u001b[0;32m<ipython-input-17-d6b61775e813>\u001b[0m in \u001b[0;36m<module>\u001b[0;34m()\u001b[0m\n\u001b[0;32m----> 1\u001b[0;31m \u001b[0mlist_a\u001b[0m\u001b[0;34m[\u001b[0m\u001b[0;36m6\u001b[0m\u001b[0;34m]\u001b[0m\u001b[0;34m\u001b[0m\u001b[0;34m\u001b[0m\u001b[0m\n\u001b[0m",
            "\u001b[0;31mIndexError\u001b[0m: list index out of range"
          ]
        }
      ]
    },
    {
      "cell_type": "code",
      "source": [
        "list_a[-1] #index จากตัวด้านหลังตัวสุดท้ายของ list"
      ],
      "metadata": {
        "colab": {
          "base_uri": "https://localhost:8080/"
        },
        "id": "fBREQ49u7iJ5",
        "outputId": "c96925f3-9e91-43b5-dfea-ecf1883756a8"
      },
      "execution_count": null,
      "outputs": [
        {
          "output_type": "execute_result",
          "data": {
            "text/plain": [
              "6"
            ]
          },
          "metadata": {},
          "execution_count": 21
        }
      ]
    },
    {
      "cell_type": "code",
      "source": [
        "list_a[-4] #index นับจากหลังมาหน้าตัวที่ 4"
      ],
      "metadata": {
        "colab": {
          "base_uri": "https://localhost:8080/"
        },
        "id": "bRjb_fEq7iHh",
        "outputId": "6d4969c7-f9ff-40ff-bc17-9d397d9aec7e"
      },
      "execution_count": null,
      "outputs": [
        {
          "output_type": "execute_result",
          "data": {
            "text/plain": [
              "3"
            ]
          },
          "metadata": {},
          "execution_count": 23
        }
      ]
    },
    {
      "cell_type": "markdown",
      "source": [
        "### การสร้าง ```list()``` "
      ],
      "metadata": {
        "id": "PAB-UMLP9dvJ"
      }
    },
    {
      "cell_type": "code",
      "source": [
        "list_x1 = []  #การสร้าง list แบบที่ 1 \n",
        "list_x2 = list() #การสร้าง list แบบที่ 2 "
      ],
      "metadata": {
        "id": "0DtyKhch7iCZ"
      },
      "execution_count": null,
      "outputs": []
    },
    {
      "cell_type": "code",
      "source": [
        "print(list_x1) #print ทั้ง 2 list จะได้ list ว่าง\n",
        "print(list_x2)"
      ],
      "metadata": {
        "colab": {
          "base_uri": "https://localhost:8080/"
        },
        "id": "ZlPh3fFb9COR",
        "outputId": "7b665b7c-10f9-4256-a0db-d9d02dc4cdf0"
      },
      "execution_count": null,
      "outputs": [
        {
          "output_type": "stream",
          "name": "stdout",
          "text": [
            "[]\n",
            "[]\n"
          ]
        }
      ]
    },
    {
      "cell_type": "markdown",
      "source": [
        "### เพิ่มสมาชิกเข้าไปใน list ด้วย `append()`"
      ],
      "metadata": {
        "id": "8Hj26shu-O8M"
      }
    },
    {
      "cell_type": "code",
      "source": [
        "list_x1.append(2) #ไม่มีอะไรเกิดขึ้นแสดงว่า 2 มันต้องไปปรากฎที่ไหนสักที่หนึ่ง มันถูกแทรกเข้าไปใน list_x1 แล้ว"
      ],
      "metadata": {
        "id": "y915fIe99CL5"
      },
      "execution_count": null,
      "outputs": []
    },
    {
      "cell_type": "code",
      "source": [
        "list_x1 #จะได้ผลออกมา"
      ],
      "metadata": {
        "colab": {
          "base_uri": "https://localhost:8080/"
        },
        "id": "C6GKPhWB9CJd",
        "outputId": "14aab7d9-f5f7-40ae-acf1-4f84ba48a350"
      },
      "execution_count": null,
      "outputs": [
        {
          "output_type": "execute_result",
          "data": {
            "text/plain": [
              "[2, 2]"
            ]
          },
          "metadata": {},
          "execution_count": 34
        }
      ]
    },
    {
      "cell_type": "code",
      "source": [
        "list_x1.append(4) #เอา 4 มาแทนใน list_x1\n",
        "print(list_x1)"
      ],
      "metadata": {
        "colab": {
          "base_uri": "https://localhost:8080/"
        },
        "id": "pMkhhXJL-ufN",
        "outputId": "6f678422-705f-4fb7-ffe3-b9cfa2231694"
      },
      "execution_count": null,
      "outputs": [
        {
          "output_type": "stream",
          "name": "stdout",
          "text": [
            "[2, 2, 2, 4]\n"
          ]
        }
      ]
    },
    {
      "cell_type": "code",
      "source": [
        "list_x1.append(0) #แทนค่า 0 ใน list_x1"
      ],
      "metadata": {
        "id": "GlLCTFse--S1"
      },
      "execution_count": null,
      "outputs": []
    },
    {
      "cell_type": "code",
      "source": [
        "list_x1.append(-1) #แทนค่า -1 ใน list_x1"
      ],
      "metadata": {
        "id": "x9sotuEl_K9M"
      },
      "execution_count": null,
      "outputs": []
    },
    {
      "cell_type": "code",
      "source": [
        "list_x2 #แสดงค่า list_x2 ออกมา"
      ],
      "metadata": {
        "colab": {
          "base_uri": "https://localhost:8080/"
        },
        "id": "AqV6mrBC_FtC",
        "outputId": "894d1cf0-433c-4a2b-fd94-e75513d02dc1"
      },
      "execution_count": null,
      "outputs": [
        {
          "output_type": "execute_result",
          "data": {
            "text/plain": [
              "[]"
            ]
          },
          "metadata": {},
          "execution_count": 39
        }
      ]
    },
    {
      "cell_type": "code",
      "source": [
        "list_x1.append('ha') #แทนค่า ha ใน list_x2"
      ],
      "metadata": {
        "id": "4lKNrBXB_SwK"
      },
      "execution_count": null,
      "outputs": []
    },
    {
      "cell_type": "code",
      "source": [
        "list_x1 #รัน list_x1 ที่มีหลายตัวคือเราเผลอไปรันหลายครั้ง"
      ],
      "metadata": {
        "colab": {
          "base_uri": "https://localhost:8080/"
        },
        "id": "6uyNI11G_eSX",
        "outputId": "825ae16f-a5af-4464-a662-ef41da9e0335"
      },
      "execution_count": null,
      "outputs": [
        {
          "output_type": "execute_result",
          "data": {
            "text/plain": [
              "[2, 2, 2, 4, 0, -1, 'ha']"
            ]
          },
          "metadata": {},
          "execution_count": 41
        }
      ]
    },
    {
      "cell_type": "code",
      "source": [
        "list_x2.append('ha') #แทนค่า ha ใน list_x2"
      ],
      "metadata": {
        "id": "ITOdl44J_fs6"
      },
      "execution_count": null,
      "outputs": []
    },
    {
      "cell_type": "code",
      "source": [
        "list_x2 #รันค่าออกมาดู ที่มี 2 ตัวคือรัน 2 ครั้ง"
      ],
      "metadata": {
        "colab": {
          "base_uri": "https://localhost:8080/"
        },
        "id": "kGqMFfOp_0bL",
        "outputId": "5ee71452-e9ae-40e3-ff98-5b1dd57dd9cd"
      },
      "execution_count": null,
      "outputs": [
        {
          "output_type": "execute_result",
          "data": {
            "text/plain": [
              "['ha', 'ha']"
            ]
          },
          "metadata": {},
          "execution_count": 45
        }
      ]
    },
    {
      "cell_type": "markdown",
      "source": [
        "### ลบสมาชิกจาก list "
      ],
      "metadata": {
        "id": "SdEtryiMAO9E"
      }
    },
    {
      "cell_type": "code",
      "source": [
        "list_x1.pop() #ลบค่า x1 ครั้งที่ 1 "
      ],
      "metadata": {
        "colab": {
          "base_uri": "https://localhost:8080/",
          "height": 35
        },
        "id": "t49lqB7pAhdf",
        "outputId": "c8cddf67-6d9c-485d-87e1-1d6dd256203f"
      },
      "execution_count": null,
      "outputs": [
        {
          "output_type": "execute_result",
          "data": {
            "application/vnd.google.colaboratory.intrinsic+json": {
              "type": "string"
            },
            "text/plain": [
              "'ha'"
            ]
          },
          "metadata": {},
          "execution_count": 46
        }
      ]
    },
    {
      "cell_type": "code",
      "source": [
        "list_x1 #ลองแสดงค่าใหม่ครั้งที่ 1 "
      ],
      "metadata": {
        "colab": {
          "base_uri": "https://localhost:8080/"
        },
        "id": "lPwsT6zbAn1z",
        "outputId": "f1341a9c-4f72-44d8-e5c3-fc7cb67d0c1e"
      },
      "execution_count": null,
      "outputs": [
        {
          "output_type": "execute_result",
          "data": {
            "text/plain": [
              "[2, 2, 2, 4, 0, -1]"
            ]
          },
          "metadata": {},
          "execution_count": 47
        }
      ]
    },
    {
      "cell_type": "code",
      "source": [
        "list_x1.pop() #ลบค่า x1 ครั้งที่ 2"
      ],
      "metadata": {
        "colab": {
          "base_uri": "https://localhost:8080/"
        },
        "id": "XzIQAnfdAcia",
        "outputId": "7dc6f445-ef34-4e95-f976-764be28281a9"
      },
      "execution_count": null,
      "outputs": [
        {
          "output_type": "execute_result",
          "data": {
            "text/plain": [
              "-1"
            ]
          },
          "metadata": {},
          "execution_count": 48
        }
      ]
    },
    {
      "cell_type": "code",
      "source": [
        "list_x1 #ลองแสดงค่าใหม่ครั้งที่ 2"
      ],
      "metadata": {
        "colab": {
          "base_uri": "https://localhost:8080/"
        },
        "id": "IY7RcU5EAvGr",
        "outputId": "a651efe3-5df7-4e31-854c-67c0a964b22a"
      },
      "execution_count": null,
      "outputs": [
        {
          "output_type": "execute_result",
          "data": {
            "text/plain": [
              "[2, 2, 2, 4, 0]"
            ]
          },
          "metadata": {},
          "execution_count": 49
        }
      ]
    },
    {
      "cell_type": "code",
      "source": [
        "list_x1.pop() #ลบค่า x1 ครั้งที่ 3"
      ],
      "metadata": {
        "colab": {
          "base_uri": "https://localhost:8080/"
        },
        "id": "xaiyKF-7AzDO",
        "outputId": "72e1938b-1097-4f41-dc4c-0e9fdf283bcc"
      },
      "execution_count": null,
      "outputs": [
        {
          "output_type": "execute_result",
          "data": {
            "text/plain": [
              "0"
            ]
          },
          "metadata": {},
          "execution_count": 50
        }
      ]
    },
    {
      "cell_type": "code",
      "source": [
        "list_x1 #ลองแสดงค่าใหม่ครั้งที่ 3"
      ],
      "metadata": {
        "colab": {
          "base_uri": "https://localhost:8080/"
        },
        "id": "rACRjvzIAxLo",
        "outputId": "c8af3ce7-6401-43fb-fa03-33bba7cca66d"
      },
      "execution_count": null,
      "outputs": [
        {
          "output_type": "execute_result",
          "data": {
            "text/plain": [
              "[2, 2, 2, 4]"
            ]
          },
          "metadata": {},
          "execution_count": 51
        }
      ]
    },
    {
      "cell_type": "code",
      "source": [
        "list_x1.pop() #ลบค่า x1 ครั้งที่ 4"
      ],
      "metadata": {
        "colab": {
          "base_uri": "https://localhost:8080/"
        },
        "id": "cKk2Me-DA0gT",
        "outputId": "1f862606-600a-4905-b783-85c1318e1b0f"
      },
      "execution_count": null,
      "outputs": [
        {
          "output_type": "execute_result",
          "data": {
            "text/plain": [
              "4"
            ]
          },
          "metadata": {},
          "execution_count": 52
        }
      ]
    },
    {
      "cell_type": "code",
      "source": [
        "list_x1 #ลองแสดงค่าใหม่ครั้งที่ 4"
      ],
      "metadata": {
        "colab": {
          "base_uri": "https://localhost:8080/"
        },
        "id": "zDcZNzShA2Kb",
        "outputId": "32d0d13c-33ec-4db2-c311-0dda7bd8580d"
      },
      "execution_count": null,
      "outputs": [
        {
          "output_type": "execute_result",
          "data": {
            "text/plain": [
              "[2, 2, 2]"
            ]
          },
          "metadata": {},
          "execution_count": 53
        }
      ]
    },
    {
      "cell_type": "code",
      "source": [
        "list_x1.pop() #ลบค่า x1 ครั้งที่ 5"
      ],
      "metadata": {
        "colab": {
          "base_uri": "https://localhost:8080/"
        },
        "id": "PBpZAwcAA3KG",
        "outputId": "e417ccd8-ab7e-4322-96cf-64a9d15b1e04"
      },
      "execution_count": null,
      "outputs": [
        {
          "output_type": "execute_result",
          "data": {
            "text/plain": [
              "2"
            ]
          },
          "metadata": {},
          "execution_count": 54
        }
      ]
    },
    {
      "cell_type": "code",
      "source": [
        "list_x1 #ลองแสดงค่าใหม่ครั้งที่ 5"
      ],
      "metadata": {
        "colab": {
          "base_uri": "https://localhost:8080/"
        },
        "id": "Qffq8XQxA5Jr",
        "outputId": "79c24901-ad25-4096-8dc8-4da57d0b1ec1"
      },
      "execution_count": null,
      "outputs": [
        {
          "output_type": "execute_result",
          "data": {
            "text/plain": [
              "[2, 2]"
            ]
          },
          "metadata": {},
          "execution_count": 55
        }
      ]
    },
    {
      "cell_type": "code",
      "source": [
        "list_x1.pop() #ลบค่า x1 ครั้งที่ 6"
      ],
      "metadata": {
        "colab": {
          "base_uri": "https://localhost:8080/"
        },
        "id": "tczAAOv3A8fv",
        "outputId": "07bd8d52-44f7-4889-e2c7-92a29d8b8c86"
      },
      "execution_count": null,
      "outputs": [
        {
          "output_type": "execute_result",
          "data": {
            "text/plain": [
              "2"
            ]
          },
          "metadata": {},
          "execution_count": 56
        }
      ]
    },
    {
      "cell_type": "code",
      "source": [
        "list_x1 #ลองแสดงค่าใหม่ครั้งที่ 6"
      ],
      "metadata": {
        "colab": {
          "base_uri": "https://localhost:8080/"
        },
        "id": "xlB4GMkWA-Ai",
        "outputId": "50402bca-6006-426b-97c3-5bb0fe6d9881"
      },
      "execution_count": null,
      "outputs": [
        {
          "output_type": "execute_result",
          "data": {
            "text/plain": [
              "[2]"
            ]
          },
          "metadata": {},
          "execution_count": 57
        }
      ]
    },
    {
      "cell_type": "code",
      "source": [
        "list_x1.pop() #ลบค่า x1 ครั้งที่ 7"
      ],
      "metadata": {
        "colab": {
          "base_uri": "https://localhost:8080/"
        },
        "id": "5XCiQKvLB-PT",
        "outputId": "8375fafd-2818-41b8-cad4-477ec05f8032"
      },
      "execution_count": null,
      "outputs": [
        {
          "output_type": "execute_result",
          "data": {
            "text/plain": [
              "4"
            ]
          },
          "metadata": {},
          "execution_count": 62
        }
      ]
    },
    {
      "cell_type": "code",
      "source": [
        "list_x1 #ลองแสดงค่าใหม่ครั้งที่ 7"
      ],
      "metadata": {
        "colab": {
          "base_uri": "https://localhost:8080/"
        },
        "id": "_UV_loWACAcT",
        "outputId": "62076771-8e01-4c82-9adb-40c4f7ef3a20"
      },
      "execution_count": null,
      "outputs": [
        {
          "output_type": "execute_result",
          "data": {
            "text/plain": [
              "[2, '4']"
            ]
          },
          "metadata": {},
          "execution_count": 63
        }
      ]
    },
    {
      "cell_type": "code",
      "source": [
        "list_x1.pop() #ลบค่า x1 ครั้งที่ 8"
      ],
      "metadata": {
        "colab": {
          "base_uri": "https://localhost:8080/",
          "height": 35
        },
        "id": "g6wW2coiCCL5",
        "outputId": "68280d36-7ea4-4f26-9876-624410304646"
      },
      "execution_count": null,
      "outputs": [
        {
          "output_type": "execute_result",
          "data": {
            "application/vnd.google.colaboratory.intrinsic+json": {
              "type": "string"
            },
            "text/plain": [
              "'4'"
            ]
          },
          "metadata": {},
          "execution_count": 64
        }
      ]
    },
    {
      "cell_type": "code",
      "source": [
        "list_x1 #ลองแสดงค่าใหม่ครั้งที่ 7"
      ],
      "metadata": {
        "colab": {
          "base_uri": "https://localhost:8080/"
        },
        "id": "FLh6ZbYvCDoQ",
        "outputId": "f766a3b2-9373-4ded-b093-ed7230a953c1"
      },
      "execution_count": null,
      "outputs": [
        {
          "output_type": "execute_result",
          "data": {
            "text/plain": [
              "[2]"
            ]
          },
          "metadata": {},
          "execution_count": 65
        }
      ]
    },
    {
      "cell_type": "code",
      "source": [
        "list_x1.append(4) #แทนค่าใหม่ แทน 4 ใน list_x1 ใหม่"
      ],
      "metadata": {
        "id": "13fbn2t9A_t9"
      },
      "execution_count": null,
      "outputs": []
    },
    {
      "cell_type": "code",
      "source": [
        "print(list_x1) #ก็จะได้ค่าเหมือนอาจารย์แล้ว เย่ ๆ "
      ],
      "metadata": {
        "colab": {
          "base_uri": "https://localhost:8080/"
        },
        "id": "PMOhcg93BDqz",
        "outputId": "2b2cf45e-52b3-4f70-d321-1abbbc2e3476"
      },
      "execution_count": null,
      "outputs": [
        {
          "output_type": "stream",
          "name": "stdout",
          "text": [
            "[2, 4]\n"
          ]
        }
      ]
    },
    {
      "cell_type": "markdown",
      "source": [
        "### ```len()``` ตรวจสอบจำนวนสมาชิกของ list"
      ],
      "metadata": {
        "id": "3kM8BEiMCOwb"
      }
    },
    {
      "cell_type": "code",
      "source": [
        "print(list_b) #ปริ้นค่าที่อยู่ใน list_b ออกมา\n",
        "print(len(list_b)) #ปริ้นจำนวนใน list_b ออกมา"
      ],
      "metadata": {
        "colab": {
          "base_uri": "https://localhost:8080/"
        },
        "id": "3Rb_bVzCBwce",
        "outputId": "4ec6405b-1531-41fc-ddd3-4659ed33786f"
      },
      "execution_count": null,
      "outputs": [
        {
          "output_type": "stream",
          "name": "stdout",
          "text": [
            "['ab', 2, 3.14, [1, 2, 3, 4, 5, 6]]\n",
            "4\n"
          ]
        }
      ]
    },
    {
      "cell_type": "code",
      "source": [
        "len(list_a) #ปริ้นจำนวนใน list_a ออกมา"
      ],
      "metadata": {
        "colab": {
          "base_uri": "https://localhost:8080/"
        },
        "id": "f17_6FGfCcK-",
        "outputId": "c66d8b17-a7ef-4ff3-fc7b-2bbaeb994749"
      },
      "execution_count": null,
      "outputs": [
        {
          "output_type": "execute_result",
          "data": {
            "text/plain": [
              "6"
            ]
          },
          "metadata": {},
          "execution_count": 72
        }
      ]
    },
    {
      "cell_type": "markdown",
      "source": [
        "### String is a list of charactesrs"
      ],
      "metadata": {
        "id": "fKUb4D6yCjTN"
      }
    },
    {
      "cell_type": "code",
      "source": [
        "st_stat = 'Department od Statistics, Faclty od Science ' #เก็บข้อมูลไว้ใน st_stat"
      ],
      "metadata": {
        "id": "5GgWmqJlCgh8"
      },
      "execution_count": null,
      "outputs": []
    },
    {
      "cell_type": "code",
      "source": [
        "st_stat[10] #ดูตัวที่ 10"
      ],
      "metadata": {
        "colab": {
          "base_uri": "https://localhost:8080/",
          "height": 35
        },
        "id": "_pW-gXaEDCu8",
        "outputId": "0699d792-b646-40c4-e86c-93a875395697"
      },
      "execution_count": null,
      "outputs": [
        {
          "output_type": "execute_result",
          "data": {
            "application/vnd.google.colaboratory.intrinsic+json": {
              "type": "string"
            },
            "text/plain": [
              "' '"
            ]
          },
          "metadata": {},
          "execution_count": 79
        }
      ]
    },
    {
      "cell_type": "code",
      "source": [
        "len(st_stat) #ดูว่ามีความยาวเท่าไหร่"
      ],
      "metadata": {
        "colab": {
          "base_uri": "https://localhost:8080/"
        },
        "id": "EG4Wumc9DFn0",
        "outputId": "72fdce7b-f82e-4be3-8b2b-4869c377f2d5"
      },
      "execution_count": null,
      "outputs": [
        {
          "output_type": "execute_result",
          "data": {
            "text/plain": [
              "44"
            ]
          },
          "metadata": {},
          "execution_count": 80
        }
      ]
    },
    {
      "cell_type": "markdown",
      "source": [
        "### List Slicing การเฉือน list ```:```"
      ],
      "metadata": {
        "id": "ERPDXYqBDYB_"
      }
    },
    {
      "cell_type": "markdown",
      "source": [
        " ``` list [จุดเริ่มต้น(ทึบ) : จุดสุดท้าย (โปร่ง)] ```\n",
        "\n",
        " ``` list [ จุดเริ่มต้น (ทึบ) : จุดสุดท้าย (โปร่ง) : step)] ```"
      ],
      "metadata": {
        "id": "WyPBJ-WEEU-c"
      }
    },
    {
      "cell_type": "markdown",
      "source": [
        "ใส่รูป"
      ],
      "metadata": {
        "id": "ie6anlPeFFFs"
      }
    },
    {
      "cell_type": "code",
      "source": [
        "list_a #แสดงค่า list_a"
      ],
      "metadata": {
        "colab": {
          "base_uri": "https://localhost:8080/"
        },
        "id": "-uCkFas8DPBE",
        "outputId": "c142122d-a200-4abd-e128-0619b03c776d"
      },
      "execution_count": null,
      "outputs": [
        {
          "output_type": "execute_result",
          "data": {
            "text/plain": [
              "[1, 2, 3, 4, 5, 6]"
            ]
          },
          "metadata": {},
          "execution_count": 82
        }
      ]
    },
    {
      "cell_type": "code",
      "source": [
        "list_a[2] #แสดงค่าตัวที่ 2 ใน list คือ 3 "
      ],
      "metadata": {
        "colab": {
          "base_uri": "https://localhost:8080/"
        },
        "id": "L_Shff7MDxs2",
        "outputId": "a6eb1d6c-0046-4fc8-8008-e3c9faef4cd1"
      },
      "execution_count": null,
      "outputs": [
        {
          "output_type": "execute_result",
          "data": {
            "text/plain": [
              "3"
            ]
          },
          "metadata": {},
          "execution_count": 84
        }
      ]
    },
    {
      "cell_type": "code",
      "source": [
        "list_a[-3:]  # : เรียกว่า Colon #เอา 3 ตัวสรุดท้ายจากด้านหลัง เพราะมี - "
      ],
      "metadata": {
        "colab": {
          "base_uri": "https://localhost:8080/"
        },
        "id": "frgbXM4tD36U",
        "outputId": "a8546599-860b-4d76-bad0-b1589e9c6189"
      },
      "execution_count": null,
      "outputs": [
        {
          "output_type": "execute_result",
          "data": {
            "text/plain": [
              "[4, 5, 6]"
            ]
          },
          "metadata": {},
          "execution_count": 86
        }
      ]
    },
    {
      "cell_type": "code",
      "source": [
        "list_a[1:4] #เริ่มต้นตัวที่ 1 นับไปถึงตัวที่ 4 แต่ไม่เอาตัวที่ 4 เอาแค่ตัวที่ 3 พอ #หลัง colon ไม่ใส่ละไว้ในฐานที่เข้าใจ"
      ],
      "metadata": {
        "colab": {
          "base_uri": "https://localhost:8080/"
        },
        "id": "SkEmHHM3EPFa",
        "outputId": "1e2219c1-caa0-4e5b-dbf2-ef7633fed424"
      },
      "execution_count": null,
      "outputs": [
        {
          "output_type": "execute_result",
          "data": {
            "text/plain": [
              "[2, 3, 4]"
            ]
          },
          "metadata": {},
          "execution_count": 90
        }
      ]
    },
    {
      "cell_type": "code",
      "source": [
        "list_a[:4] #เอาคั้งแต่ตัวที่ 0 ถึงตัวที่ 3 "
      ],
      "metadata": {
        "colab": {
          "base_uri": "https://localhost:8080/"
        },
        "id": "VdAm2CKQGToR",
        "outputId": "c035e514-ca6a-4ab9-d74e-315cf9524c26"
      },
      "execution_count": null,
      "outputs": [
        {
          "output_type": "execute_result",
          "data": {
            "text/plain": [
              "[1, 2, 3, 4]"
            ]
          },
          "metadata": {},
          "execution_count": 91
        }
      ]
    },
    {
      "cell_type": "code",
      "source": [
        "list_a[:] #เอาทุกตัว"
      ],
      "metadata": {
        "colab": {
          "base_uri": "https://localhost:8080/"
        },
        "id": "0LSkd8YOGVV5",
        "outputId": "42e33542-0fd0-45a8-a7eb-da3b2e72931e"
      },
      "execution_count": null,
      "outputs": [
        {
          "output_type": "execute_result",
          "data": {
            "text/plain": [
              "[1, 2, 3, 4, 5, 6]"
            ]
          },
          "metadata": {},
          "execution_count": 93
        }
      ]
    },
    {
      "cell_type": "markdown",
      "source": [
        "### Step "
      ],
      "metadata": {
        "id": "rhmMcMyfGwLN"
      }
    },
    {
      "cell_type": "code",
      "source": [
        "list_c = [1,2,3,4,5,6,7,8,9,10,11,12,13,] #เก็บค่าไว้ในตัวแปร list_c"
      ],
      "metadata": {
        "id": "omR3-CbTGjnn"
      },
      "execution_count": null,
      "outputs": []
    },
    {
      "cell_type": "code",
      "source": [
        "list_c[:10:] #เอา 10 ตัวแรก"
      ],
      "metadata": {
        "colab": {
          "base_uri": "https://localhost:8080/"
        },
        "id": "4w3MTLuTG_Gj",
        "outputId": "f24eb322-2a30-49f9-9d2c-f1c2a0854c03"
      },
      "execution_count": null,
      "outputs": [
        {
          "output_type": "execute_result",
          "data": {
            "text/plain": [
              "[1, 2, 3, 4, 5, 6, 7, 8, 9, 10]"
            ]
          },
          "metadata": {},
          "execution_count": 104
        }
      ]
    },
    {
      "cell_type": "code",
      "source": [
        "list_c[:10:2] #กระโดนทีละ 2 ขั้น"
      ],
      "metadata": {
        "colab": {
          "base_uri": "https://localhost:8080/"
        },
        "id": "U_pN6smaHGmy",
        "outputId": "9674546e-5a0e-47fc-a43c-e4a7ed786264"
      },
      "execution_count": null,
      "outputs": [
        {
          "output_type": "execute_result",
          "data": {
            "text/plain": [
              "[1, 3, 5, 7, 9]"
            ]
          },
          "metadata": {},
          "execution_count": 105
        }
      ]
    },
    {
      "cell_type": "code",
      "source": [
        "list_c[::-1] #วิ่งมาจากด้านหลัง "
      ],
      "metadata": {
        "colab": {
          "base_uri": "https://localhost:8080/"
        },
        "id": "oLUOeH8gHS0_",
        "outputId": "2b0e1a90-af50-457b-b656-3d7207f25ead"
      },
      "execution_count": null,
      "outputs": [
        {
          "output_type": "execute_result",
          "data": {
            "text/plain": [
              "[13, 12, 11, 10, 9, 8, 7, 6, 5, 4, 3, 2, 1]"
            ]
          },
          "metadata": {},
          "execution_count": 106
        }
      ]
    },
    {
      "cell_type": "markdown",
      "source": [
        "### ```range()```"
      ],
      "metadata": {
        "id": "3Jmzk3L6H0Rm"
      }
    },
    {
      "cell_type": "code",
      "source": [
        "range(21) #ในลักษณะ list เริ่ม 0 โปร่งค้าที่ 21 จะได้แค่ 20 ตัว #อาจจะเป็นการวนลูบก็ได้"
      ],
      "metadata": {
        "colab": {
          "base_uri": "https://localhost:8080/"
        },
        "id": "Ebr3x2RKIMBw",
        "outputId": "9ee2583d-7d17-4a53-a37f-52800ae851f3"
      },
      "execution_count": null,
      "outputs": [
        {
          "output_type": "execute_result",
          "data": {
            "text/plain": [
              "range(0, 21)"
            ]
          },
          "metadata": {},
          "execution_count": 113
        }
      ]
    },
    {
      "cell_type": "code",
      "source": [
        "a = list(range(21)) # เก็บตัวแปรไว้ใน a "
      ],
      "metadata": {
        "id": "qAlVA1DOHgmN"
      },
      "execution_count": null,
      "outputs": []
    },
    {
      "cell_type": "code",
      "source": [
        "a #รับค่าออกมาดู"
      ],
      "metadata": {
        "colab": {
          "base_uri": "https://localhost:8080/"
        },
        "id": "72klgXlGIG7S",
        "outputId": "9c6be609-d1b4-4f14-fbe8-fc81d0959daa"
      },
      "execution_count": null,
      "outputs": [
        {
          "output_type": "execute_result",
          "data": {
            "text/plain": [
              "[0, 1, 2, 3, 4, 5, 6, 7, 8, 9, 10, 11, 12, 13, 14, 15, 16, 17, 18, 19, 20]"
            ]
          },
          "metadata": {},
          "execution_count": 115
        }
      ]
    },
    {
      "cell_type": "code",
      "source": [
        "list(range(1,21)) #รันค่าออกดู"
      ],
      "metadata": {
        "colab": {
          "base_uri": "https://localhost:8080/"
        },
        "id": "t1rtcQkdIHmN",
        "outputId": "690de9dc-e822-402a-b844-5b2e64c6e99f"
      },
      "execution_count": null,
      "outputs": [
        {
          "output_type": "execute_result",
          "data": {
            "text/plain": [
              "[1, 2, 3, 4, 5, 6, 7, 8, 9, 10, 11, 12, 13, 14, 15, 16, 17, 18, 19, 20]"
            ]
          },
          "metadata": {},
          "execution_count": 117
        }
      ]
    },
    {
      "cell_type": "markdown",
      "source": [
        "### การบ้านครั้งที่ 2  (เดี่ยว)   คำนวณเวลาเป็นวินาทีของเวลาต่อไปนี้โดยใช้คำสั่ง split() ช่วย (print ออกมาให้สวยงาม)\n",
        "\n",
        "- 12:30:15\n",
        "- 13:41:07\n",
        "- 09:11:50\n",
        "- 21:30:15\n",
        "- 03:10:15"
      ],
      "metadata": {
        "id": "MO4dBnEtI3ou"
      }
    },
    {
      "cell_type": "code",
      "source": [
        "#01:02:03 \n",
        "\n",
        "a = (1*60*60) + (2*60) + 3\n",
        "print(f'01:02:03 แปลงเป็นวินาทีได้ {a} วินาที')"
      ],
      "metadata": {
        "colab": {
          "base_uri": "https://localhost:8080/"
        },
        "id": "deQhla73Jhvd",
        "outputId": "06c82937-fa48-4df8-974f-48a55bbce907"
      },
      "execution_count": null,
      "outputs": [
        {
          "output_type": "stream",
          "name": "stdout",
          "text": [
            "01:02:03 แปลงเป็นวินาทีได้ 3723 วินาที\n"
          ]
        }
      ]
    },
    {
      "cell_type": "code",
      "source": [
        ""
      ],
      "metadata": {
        "id": "J8KmnGbpJvfu"
      },
      "execution_count": null,
      "outputs": []
    }
  ]
}