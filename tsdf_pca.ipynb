{
  "nbformat": 4,
  "nbformat_minor": 0,
  "metadata": {
    "colab": {
      "name": "tsdf_pca.ipynb",
      "provenance": [],
      "collapsed_sections": [],
      "include_colab_link": true
    },
    "kernelspec": {
      "name": "python3",
      "display_name": "Python 3"
    }
  },
  "cells": [
    {
      "cell_type": "markdown",
      "metadata": {
        "id": "view-in-github",
        "colab_type": "text"
      },
      "source": [
        "<a href=\"https://colab.research.google.com/github/Umaporn19/data_viz_2022/blob/main/tsdf_pca.ipynb\" target=\"_parent\"><img src=\"https://colab.research.google.com/assets/colab-badge.svg\" alt=\"Open In Colab\"/></a>"
      ]
    },
    {
      "cell_type": "code",
      "metadata": {
        "id": "AcXVte4UFe0j"
      },
      "source": [
        "#@title Install required modules\n",
        "!pip install --quiet -U gdown\n",
        "!pip install --quiet tensorflow-graphics"
      ],
      "execution_count": 16,
      "outputs": []
    },
    {
      "cell_type": "code",
      "metadata": {
        "id": "pv2WT7JaFiVb"
      },
      "source": [
        "#@title Useful imports\n",
        "\n",
        "import numpy as np\n",
        "import gdown\n",
        "import h5py\n",
        "import matplotlib.pyplot as plt\n",
        "from skimage import measure\n",
        "from tensorflow_graphics.notebooks import threejs_visualization"
      ],
      "execution_count": 17,
      "outputs": []
    },
    {
      "cell_type": "code",
      "metadata": {
        "id": "7UIrLPbSsaz7",
        "colab": {
          "base_uri": "https://localhost:8080/",
          "height": 52
        },
        "outputId": "93ffffb2-5a10-44d5-b768-73dc287d0d36"
      },
      "source": [
        "#@title Download models\n",
        "url = 'https://drive.google.com/uc?id=1Im74Wbj807iOLlWQpkTHIlislvCHsSVZ'\n",
        "output = 'tsdf_pca_cars_bicycles.tar.gz'\n",
        "gdown.cached_download(url, output, quiet=False, postprocess=gdown.extractall)"
      ],
      "execution_count": 18,
      "outputs": [
        {
          "output_type": "stream",
          "name": "stdout",
          "text": [
            "File exists: tsdf_pca_cars_bicycles.tar.gz\n"
          ]
        },
        {
          "output_type": "execute_result",
          "data": {
            "text/plain": [
              "'tsdf_pca_cars_bicycles.tar.gz'"
            ],
            "application/vnd.google.colaboratory.intrinsic+json": {
              "type": "string"
            }
          },
          "metadata": {},
          "execution_count": 18
        }
      ]
    },
    {
      "cell_type": "code",
      "metadata": {
        "id": "kxlsyDADemaM"
      },
      "source": [
        "#@title Helper functions\n",
        "\n",
        "class TSDFPCA(object):\n",
        "  def __init__(self, model_filepath):\n",
        "    with h5py.File(model_filepath, 'r') as h5f:\n",
        "      self.basis = h5f['tsdf_basis']\n",
        "      self.mean = h5_file['tsdf_mean']\n",
        "      self.thickness = np.squeeze(h5_file['thicknesses'].value)\n",
        "      self.offset = - np.array(self.mean.shape) * self.thickness / 2.0\n",
        "\n",
        "  def decode_to_tsdf(self, shape_code):\n",
        "    return np.tensordot(self.basis, shape_code, axes=1) + self.mean\n",
        "\n",
        "  def decode_to_mesh(self, shape_code):\n",
        "    verts, faces, normals, values = measure.marching_cubes_lewiner(self.decode_to_tsdf(shape_code),level= 0, spacing=self.thickness)\n",
        "    return {\"vertices\": verts + self.offset, \"faces\": faces}\n",
        "\n",
        "  def code_size(self):\n",
        "    return self.basis.shape[-1]\n",
        "\n",
        "def visualize_mesh(mesh):\n",
        "  camera = threejs_visualization.build_perspective_camera(\n",
        "        field_of_view=30, position=(0.0, -1.5, 1.0))\n",
        "  camera.lookAt ( 0.0, 0.0, 0.0)\n",
        "  threejs_visualization.triangular_mesh_renderer([mesh], camera=camera, width=300, height=300)"
      ],
      "execution_count": 19,
      "outputs": []
    },
    {
      "cell_type": "code",
      "source": [
        "#@title Load and create a TSDFPCA model.\n",
        "model = 'car_dpca20_128_ds1.h5'\n",
        "h5f = h5py.File(filename, 'r')\n",
        "basis = h5f['tsdf_basis']\n",
        "mean = h5f['tsdf_mean']\n",
        "thickness = np.squeeze(h5f['thicknesses'])\n"
      ],
      "metadata": {
        "id": "sgWEoadP1M3u"
      },
      "execution_count": 73,
      "outputs": []
    },
    {
      "cell_type": "code",
      "metadata": {
        "id": "00drCDOvsX3j",
        "colab": {
          "base_uri": "https://localhost:8080/",
          "height": 236
        },
        "outputId": "a5abc68d-611d-4181-b3c9-1dca788e8ab7"
      },
      "source": [
        "#@title Decode random code vectors and display decoded mesh.\n",
        "A = model()\n",
        "random_code = lambda : np.random.uniform(low=-40, high=40)\n",
        "\n",
        "visualize_mesh(model.decode_to_mesh(np.zeros(code_size)))\n",
        "visualize_mesh(model.decode_to_mesh(random_code()))\n",
        "visualize_mesh(model.decode_to_mesh(random_code()))\n",
        "visualize_mesh(model.decode_to_mesh(random_code()))\n",
        "visualize_mesh(model.decode_to_mesh(random_code()))"
      ],
      "execution_count": 80,
      "outputs": [
        {
          "output_type": "error",
          "ename": "NameError",
          "evalue": "ignored",
          "traceback": [
            "\u001b[0;31m---------------------------------------------------------------------------\u001b[0m",
            "\u001b[0;31mNameError\u001b[0m                                 Traceback (most recent call last)",
            "\u001b[0;32m<ipython-input-80-f689ce91c876>\u001b[0m in \u001b[0;36m<module>\u001b[0;34m\u001b[0m\n\u001b[1;32m      1\u001b[0m \u001b[0;31m#@title Decode random code vectors and display decoded mesh.\u001b[0m\u001b[0;34m\u001b[0m\u001b[0;34m\u001b[0m\u001b[0;34m\u001b[0m\u001b[0m\n\u001b[0;32m----> 2\u001b[0;31m \u001b[0mA\u001b[0m\u001b[0;34m\u001b[0m\u001b[0;34m\u001b[0m\u001b[0m\n\u001b[0m\u001b[1;32m      3\u001b[0m \u001b[0mrandom_code\u001b[0m \u001b[0;34m=\u001b[0m \u001b[0;32mlambda\u001b[0m \u001b[0;34m:\u001b[0m \u001b[0mnp\u001b[0m\u001b[0;34m.\u001b[0m\u001b[0mrandom\u001b[0m\u001b[0;34m.\u001b[0m\u001b[0muniform\u001b[0m\u001b[0;34m(\u001b[0m\u001b[0mlow\u001b[0m\u001b[0;34m=\u001b[0m\u001b[0;34m-\u001b[0m\u001b[0;36m40\u001b[0m\u001b[0;34m,\u001b[0m \u001b[0mhigh\u001b[0m\u001b[0;34m=\u001b[0m\u001b[0;36m40\u001b[0m\u001b[0;34m)\u001b[0m\u001b[0;34m\u001b[0m\u001b[0;34m\u001b[0m\u001b[0m\n\u001b[1;32m      4\u001b[0m \u001b[0;34m\u001b[0m\u001b[0m\n\u001b[1;32m      5\u001b[0m \u001b[0mvisualize_mesh\u001b[0m\u001b[0;34m(\u001b[0m\u001b[0mmodel\u001b[0m\u001b[0;34m.\u001b[0m\u001b[0mdecode_to_mesh\u001b[0m\u001b[0;34m(\u001b[0m\u001b[0mnp\u001b[0m\u001b[0;34m.\u001b[0m\u001b[0mzeros\u001b[0m\u001b[0;34m(\u001b[0m\u001b[0mcode_size\u001b[0m\u001b[0;34m)\u001b[0m\u001b[0;34m)\u001b[0m\u001b[0;34m)\u001b[0m\u001b[0;34m\u001b[0m\u001b[0;34m\u001b[0m\u001b[0m\n",
            "\u001b[0;31mNameError\u001b[0m: name 'A' is not defined"
          ]
        }
      ]
    },
    {
      "cell_type": "code",
      "source": [],
      "metadata": {
        "id": "KoJtLDVC5uh6"
      },
      "execution_count": null,
      "outputs": []
    }
  ]
}