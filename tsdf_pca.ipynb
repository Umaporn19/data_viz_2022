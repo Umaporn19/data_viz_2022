{
  "nbformat": 4,
  "nbformat_minor": 0,
  "metadata": {
    "colab": {
      "name": "tsdf_pca.ipynb",
      "provenance": [],
      "collapsed_sections": [],
      "include_colab_link": true
    },
    "kernelspec": {
      "name": "python3",
      "display_name": "Python 3"
    }
  },
  "cells": [
    {
      "cell_type": "markdown",
      "metadata": {
        "id": "view-in-github",
        "colab_type": "text"
      },
      "source": [
        "<a href=\"https://colab.research.google.com/github/Umaporn19/data_viz_2022/blob/main/tsdf_pca.ipynb\" target=\"_parent\"><img src=\"https://colab.research.google.com/assets/colab-badge.svg\" alt=\"Open In Colab\"/></a>"
      ]
    },
    {
      "cell_type": "code",
      "metadata": {
        "id": "AcXVte4UFe0j",
        "colab": {
          "base_uri": "https://localhost:8080/"
        },
        "outputId": "77a49062-8285-40ed-9a51-e165c930af81"
      },
      "source": [
        "#@title Install required modules\n",
        "!pip install --quiet -U gdown\n",
        "!pip install --quiet tensorflow-graphics"
      ],
      "execution_count": 1,
      "outputs": [
        {
          "output_type": "stream",
          "name": "stdout",
          "text": [
            "  Installing build dependencies ... \u001b[?25l\u001b[?25hdone\n",
            "  Getting requirements to build wheel ... \u001b[?25l\u001b[?25hdone\n",
            "    Preparing wheel metadata ... \u001b[?25l\u001b[?25hdone\n",
            "  Building wheel for gdown (PEP 517) ... \u001b[?25l\u001b[?25hdone\n",
            "\u001b[K     |████████████████████████████████| 4.3 MB 24.6 MB/s \n",
            "\u001b[K     |████████████████████████████████| 660 kB 56.5 MB/s \n",
            "\u001b[K     |████████████████████████████████| 1.1 MB 48.9 MB/s \n",
            "\u001b[K     |████████████████████████████████| 281 kB 56.8 MB/s \n",
            "\u001b[?25h  Building wheel for OpenEXR (setup.py) ... \u001b[?25l\u001b[?25hdone\n"
          ]
        }
      ]
    },
    {
      "cell_type": "code",
      "metadata": {
        "id": "pv2WT7JaFiVb"
      },
      "source": [
        "#@title Useful imports\n",
        "\n",
        "import numpy as np\n",
        "import gdown\n",
        "import h5py\n",
        "import matplotlib.pyplot as plt\n",
        "from skimage import measure\n",
        "from tensorflow_graphics.notebooks import threejs_visualization"
      ],
      "execution_count": 2,
      "outputs": []
    },
    {
      "cell_type": "code",
      "metadata": {
        "id": "7UIrLPbSsaz7",
        "colab": {
          "base_uri": "https://localhost:8080/",
          "height": 121
        },
        "outputId": "0e0af422-e170-4d4e-a373-571e9f161034"
      },
      "source": [
        "#@title Download models\n",
        "url = 'https://drive.google.com/uc?id=1Im74Wbj807iOLlWQpkTHIlislvCHsSVZ'\n",
        "output = 'tsdf_pca_cars_bicycles.tar.gz'\n",
        "gdown.cached_download(url, output, quiet=False, postprocess=gdown.extractall)"
      ],
      "execution_count": 3,
      "outputs": [
        {
          "output_type": "stream",
          "name": "stderr",
          "text": [
            "Cached Downloading: tsdf_pca_cars_bicycles.tar.gz\n",
            "Downloading...\n",
            "From: https://drive.google.com/uc?id=1Im74Wbj807iOLlWQpkTHIlislvCHsSVZ\n",
            "To: /root/.cache/gdown/tmpc2n2kuzb/dl\n",
            "100%|██████████| 109M/109M [00:03<00:00, 35.9MB/s]\n"
          ]
        },
        {
          "output_type": "execute_result",
          "data": {
            "text/plain": [
              "'tsdf_pca_cars_bicycles.tar.gz'"
            ],
            "application/vnd.google.colaboratory.intrinsic+json": {
              "type": "string"
            }
          },
          "metadata": {},
          "execution_count": 3
        }
      ]
    },
    {
      "cell_type": "code",
      "metadata": {
        "id": "kxlsyDADemaM"
      },
      "source": [
        "#@title Helper functions\n",
        "\n",
        "class TSDFPCA(object):\n",
        "  def __init__(self, model_filepath):\n",
        "    with h5py.File(model_filepath, 'r') as h5_file:\n",
        "      self.basis = h5_file['tsdf_basis'].value\n",
        "      self.mean = h5_file['tsdf_mean'].value\n",
        "      self.thickness = np.squeeze(h5_file['thicknesses'].value)\n",
        "      self.offset = - np.array(self.mean.shape) * self.thickness / 2.0\n",
        "\n",
        "  def decode_to_tsdf(self, shape_code):\n",
        "    return np.tensordot(self.basis, shape_code, axes=1) + self.mean\n",
        "\n",
        "  def decode_to_mesh(self, shape_code):\n",
        "    verts, faces, normals, values = measure.marching_cubes_lewiner(self.decode_to_tsdf(shape_code),level= 0, spacing=self.thickness)\n",
        "    return {\"vertices\": verts + self.offset, \"faces\": faces}\n",
        "\n",
        "  def code_size(self):\n",
        "    return self.basis.shape[-1]\n",
        "\n",
        "def visualize_mesh(mesh):\n",
        "  camera = threejs_visualization.build_perspective_camera(\n",
        "        field_of_view=30, position=(0.0, -1.5, 1.0))\n",
        "  camera.lookAt ( 0.0, 0.0, 0.0)\n",
        "  threejs_visualization.triangular_mesh_renderer([mesh], camera=camera, width=300, height=300)"
      ],
      "execution_count": 4,
      "outputs": []
    },
    {
      "cell_type": "code",
      "metadata": {
        "id": "B9aGlP7TuBFE",
        "colab": {
          "base_uri": "https://localhost:8080/",
          "height": 305
        },
        "outputId": "9d619856-9188-4946-b5ef-489ef62a04f0"
      },
      "source": [
        "#@title Load and create a TSDFPCA model.\n",
        "model = TSDFPCA('car_dpca20_128_ds1.h5')"
      ],
      "execution_count": 5,
      "outputs": [
        {
          "output_type": "error",
          "ename": "AttributeError",
          "evalue": "ignored",
          "traceback": [
            "\u001b[0;31m---------------------------------------------------------------------------\u001b[0m",
            "\u001b[0;31mAttributeError\u001b[0m                            Traceback (most recent call last)",
            "\u001b[0;32m<ipython-input-5-3dcec44d2612>\u001b[0m in \u001b[0;36m<module>\u001b[0;34m\u001b[0m\n\u001b[1;32m      1\u001b[0m \u001b[0;31m#@title Load and create a TSDFPCA model.\u001b[0m\u001b[0;34m\u001b[0m\u001b[0;34m\u001b[0m\u001b[0;34m\u001b[0m\u001b[0m\n\u001b[0;32m----> 2\u001b[0;31m \u001b[0mmodel\u001b[0m \u001b[0;34m=\u001b[0m \u001b[0mTSDFPCA\u001b[0m\u001b[0;34m(\u001b[0m\u001b[0;34m'car_dpca20_128_ds1.h5'\u001b[0m\u001b[0;34m)\u001b[0m\u001b[0;34m\u001b[0m\u001b[0;34m\u001b[0m\u001b[0m\n\u001b[0m",
            "\u001b[0;32m<ipython-input-4-611824c9968e>\u001b[0m in \u001b[0;36m__init__\u001b[0;34m(self, model_filepath)\u001b[0m\n\u001b[1;32m      4\u001b[0m   \u001b[0;32mdef\u001b[0m \u001b[0m__init__\u001b[0m\u001b[0;34m(\u001b[0m\u001b[0mself\u001b[0m\u001b[0;34m,\u001b[0m \u001b[0mmodel_filepath\u001b[0m\u001b[0;34m)\u001b[0m\u001b[0;34m:\u001b[0m\u001b[0;34m\u001b[0m\u001b[0;34m\u001b[0m\u001b[0m\n\u001b[1;32m      5\u001b[0m     \u001b[0;32mwith\u001b[0m \u001b[0mh5py\u001b[0m\u001b[0;34m.\u001b[0m\u001b[0mFile\u001b[0m\u001b[0;34m(\u001b[0m\u001b[0mmodel_filepath\u001b[0m\u001b[0;34m,\u001b[0m \u001b[0;34m'r'\u001b[0m\u001b[0;34m)\u001b[0m \u001b[0;32mas\u001b[0m \u001b[0mh5_file\u001b[0m\u001b[0;34m:\u001b[0m\u001b[0;34m\u001b[0m\u001b[0;34m\u001b[0m\u001b[0m\n\u001b[0;32m----> 6\u001b[0;31m       \u001b[0mself\u001b[0m\u001b[0;34m.\u001b[0m\u001b[0mbasis\u001b[0m \u001b[0;34m=\u001b[0m \u001b[0mh5_file\u001b[0m\u001b[0;34m[\u001b[0m\u001b[0;34m'tsdf_basis'\u001b[0m\u001b[0;34m]\u001b[0m\u001b[0;34m.\u001b[0m\u001b[0mvalue\u001b[0m\u001b[0;34m\u001b[0m\u001b[0;34m\u001b[0m\u001b[0m\n\u001b[0m\u001b[1;32m      7\u001b[0m       \u001b[0mself\u001b[0m\u001b[0;34m.\u001b[0m\u001b[0mmean\u001b[0m \u001b[0;34m=\u001b[0m \u001b[0mh5_file\u001b[0m\u001b[0;34m[\u001b[0m\u001b[0;34m'tsdf_mean'\u001b[0m\u001b[0;34m]\u001b[0m\u001b[0;34m.\u001b[0m\u001b[0mvalue\u001b[0m\u001b[0;34m\u001b[0m\u001b[0;34m\u001b[0m\u001b[0m\n\u001b[1;32m      8\u001b[0m       \u001b[0mself\u001b[0m\u001b[0;34m.\u001b[0m\u001b[0mthickness\u001b[0m \u001b[0;34m=\u001b[0m \u001b[0mnp\u001b[0m\u001b[0;34m.\u001b[0m\u001b[0msqueeze\u001b[0m\u001b[0;34m(\u001b[0m\u001b[0mh5_file\u001b[0m\u001b[0;34m[\u001b[0m\u001b[0;34m'thicknesses'\u001b[0m\u001b[0;34m]\u001b[0m\u001b[0;34m.\u001b[0m\u001b[0mvalue\u001b[0m\u001b[0;34m)\u001b[0m\u001b[0;34m\u001b[0m\u001b[0;34m\u001b[0m\u001b[0m\n",
            "\u001b[0;31mAttributeError\u001b[0m: 'Dataset' object has no attribute 'value'"
          ]
        }
      ]
    },
    {
      "cell_type": "code",
      "metadata": {
        "id": "00drCDOvsX3j"
      },
      "source": [
        "#@title Decode random code vectors and display decoded mesh.\n",
        "code_size = model.code_size()\n",
        "random_code = lambda : np.random.uniform(low=-40, high=40, size=code_size)\n",
        "\n",
        "visualize_mesh(model.decode_to_mesh(np.zeros(code_size)))\n",
        "visualize_mesh(model.decode_to_mesh(random_code()))\n",
        "visualize_mesh(model.decode_to_mesh(random_code()))\n",
        "visualize_mesh(model.decode_to_mesh(random_code()))\n",
        "visualize_mesh(model.decode_to_mesh(random_code()))"
      ],
      "execution_count": null,
      "outputs": []
    }
  ]
}